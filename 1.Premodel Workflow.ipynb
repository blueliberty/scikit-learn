{
 "cells": [
  {
   "cell_type": "markdown",
   "metadata": {},
   "source": [
    "# 目录\n",
    "+ 获取数据集\n",
    "+ 生成模拟数据集\n",
    "+ 数据标准化\n",
    "+ 将连续变量转化为二值类别变量\n",
    "+ 对自变量中的类别变量进行独热编码\n",
    "+ 对因变量中的类别变量进行one-vs-all编码\n",
    "+ 填补缺失值\n",
    "+ 使用Pipelines来进行多步骤的数据预处理\n",
    "+ PCA降维\n",
    "+ 因子分析降维\n",
    "+ 核PCA非线性降维\n",
    "+ 截尾SVD降维\n",
    "+ 字典学习\n",
    "+ 高阶Pipelines\n",
    "+ 用高斯过程进行回归\n",
    "+ 直接设置高斯过程\n",
    "+ 随机梯度下降"
   ]
  },
  {
   "cell_type": "code",
   "execution_count": 1,
   "metadata": {
    "collapsed": true
   },
   "outputs": [],
   "source": [
    "from pandas import DataFrame, Series\n",
    "import pandas as pd\n",
    "import numpy as np\n",
    "import scipy\n",
    "import matplotlib.pyplot as plt\n",
    "import seaborn as sns"
   ]
  },
  {
   "cell_type": "code",
   "execution_count": 2,
   "metadata": {
    "collapsed": true
   },
   "outputs": [],
   "source": [
    "%matplotlib inline"
   ]
  },
  {
   "cell_type": "markdown",
   "metadata": {},
   "source": [
    "# 获取数据集\n",
    "被导入的数据集在Python中被存储为**bunch**数据结构"
   ]
  },
  {
   "cell_type": "code",
   "execution_count": 3,
   "metadata": {
    "collapsed": true
   },
   "outputs": [],
   "source": [
    "from sklearn import datasets"
   ]
  },
  {
   "cell_type": "raw",
   "metadata": {
    "collapsed": true
   },
   "source": [
    "datasets.*? # 查看datasets模块中所有的数据集"
   ]
  },
  {
   "cell_type": "markdown",
   "metadata": {},
   "source": [
    "## load方法\n",
    "datasets.load_函数"
   ]
  },
  {
   "cell_type": "raw",
   "metadata": {
    "collapsed": true
   },
   "source": [
    "datasets.load_*? # 查看随datasets模块被载入，load后可以使用的数据集"
   ]
  },
  {
   "cell_type": "code",
   "execution_count": 4,
   "metadata": {
    "collapsed": false
   },
   "outputs": [
    {
     "name": "stdout",
     "output_type": "stream",
     "text": [
      "Boston House Prices dataset\n",
      "\n",
      "Notes\n",
      "------\n",
      "Data Set Characteristics:  \n",
      "\n",
      "    :Number of Instances: 506 \n",
      "\n",
      "    :Number of Attributes: 13 numeric/categorical predictive\n",
      "    \n",
      "    :Median Value (attribute 14) is usually the target\n",
      "\n",
      "    :Attribute Information (in order):\n",
      "        - CRIM     per capita crime rate by town\n",
      "        - ZN       proportion of residential land zoned for lots over 25,000 sq.ft.\n",
      "        - INDUS    proportion of non-retail business acres per town\n",
      "        - CHAS     Charles River dummy variable (= 1 if tract bounds river; 0 otherwise)\n",
      "        - NOX      nitric oxides concentration (parts per 10 million)\n",
      "        - RM       average number of rooms per dwelling\n",
      "        - AGE      proportion of owner-occupied units built prior to 1940\n",
      "        - DIS      weighted distances to five Boston employment centres\n",
      "        - RAD      index of accessibility to radial highways\n",
      "        - TAX      full-value property-tax rate per $10,000\n",
      "        - PTRATIO  pupil-teacher ratio by town\n",
      "        - B        1000(Bk - 0.63)^2 where Bk is the proportion of blacks by town\n",
      "        - LSTAT    % lower status of the population\n",
      "        - MEDV     Median value of owner-occupied homes in $1000's\n",
      "\n",
      "    :Missing Attribute Values: None\n",
      "\n",
      "    :Creator: Harrison, D. and Rubinfeld, D.L.\n",
      "\n",
      "This is a copy of UCI ML housing dataset.\n",
      "http://archive.ics.uci.edu/ml/datasets/Housing\n",
      "\n",
      "\n",
      "This dataset was taken from the StatLib library which is maintained at Carnegie Mellon University.\n",
      "\n",
      "The Boston house-price data of Harrison, D. and Rubinfeld, D.L. 'Hedonic\n",
      "prices and the demand for clean air', J. Environ. Economics & Management,\n",
      "vol.5, 81-102, 1978.   Used in Belsley, Kuh & Welsch, 'Regression diagnostics\n",
      "...', Wiley, 1980.   N.B. Various transformations are used in the table on\n",
      "pages 244-261 of the latter.\n",
      "\n",
      "The Boston house-price data has been used in many machine learning papers that address regression\n",
      "problems.   \n",
      "     \n",
      "**References**\n",
      "\n",
      "   - Belsley, Kuh & Welsch, 'Regression diagnostics: Identifying Influential Data and Sources of Collinearity', Wiley, 1980. 244-261.\n",
      "   - Quinlan,R. (1993). Combining Instance-Based and Model-Based Learning. In Proceedings on the Tenth International Conference of Machine Learning, 236-243, University of Massachusetts, Amherst. Morgan Kaufmann.\n",
      "   - many more! (see http://archive.ics.uci.edu/ml/datasets/Housing)\n",
      "\n"
     ]
    }
   ],
   "source": [
    "boston = datasets.load_boston() # 该类数据集较小，随datasets模块被载入，load后就可以使用\n",
    "print boston.DESCR # 查看对数据集的描述"
   ]
  },
  {
   "cell_type": "markdown",
   "metadata": {},
   "source": [
    "## fetch方法\n",
    "datasets.fetch_函数"
   ]
  },
  {
   "cell_type": "raw",
   "metadata": {},
   "source": [
    "datasets.fetch_*? # 查看不随datasets模块载入，使用前需要从网络下载fetch的数据集"
   ]
  },
  {
   "cell_type": "code",
   "execution_count": 5,
   "metadata": {
    "collapsed": false,
    "scrolled": false
   },
   "outputs": [
    {
     "data": {
      "text/plain": [
       "{'DESCR': 'California housing dataset.\\n\\nThe original database is available from StatLib\\n\\n    http://lib.stat.cmu.edu/\\n\\nThe data contains 20,640 observations on 9 variables.\\n\\nThis dataset contains the average house value as target variable\\nand the following input variables (features): average income,\\nhousing average age, average rooms, average bedrooms, population,\\naverage occupation, latitude, and longitude in that order.\\n\\nReferences\\n----------\\n\\nPace, R. Kelley and Ronald Barry, Sparse Spatial Autoregressions,\\nStatistics and Probability Letters, 33 (1997) 291-297.\\n\\n',\n",
       " 'data': array([[   8.3252    ,   41.        ,    6.98412698, ...,    2.55555556,\n",
       "           37.88      , -122.23      ],\n",
       "        [   8.3014    ,   21.        ,    6.23813708, ...,    2.10984183,\n",
       "           37.86      , -122.22      ],\n",
       "        [   7.2574    ,   52.        ,    8.28813559, ...,    2.80225989,\n",
       "           37.85      , -122.24      ],\n",
       "        ..., \n",
       "        [   1.7       ,   17.        ,    5.20554273, ...,    2.3256351 ,\n",
       "           39.43      , -121.22      ],\n",
       "        [   1.8672    ,   18.        ,    5.32951289, ...,    2.12320917,\n",
       "           39.43      , -121.32      ],\n",
       "        [   2.3886    ,   16.        ,    5.25471698, ...,    2.61698113,\n",
       "           39.37      , -121.24      ]]),\n",
       " 'feature_names': ['MedInc',\n",
       "  'HouseAge',\n",
       "  'AveRooms',\n",
       "  'AveBedrms',\n",
       "  'Population',\n",
       "  'AveOccup',\n",
       "  'Latitude',\n",
       "  'Longitude'],\n",
       " 'target': array([ 4.526,  3.585,  3.521, ...,  0.923,  0.847,  0.894])}"
      ]
     },
     "execution_count": 5,
     "metadata": {},
     "output_type": "execute_result"
    }
   ],
   "source": [
    "datasets.fetch_california_housing()"
   ]
  },
  {
   "cell_type": "code",
   "execution_count": 6,
   "metadata": {
    "collapsed": false
   },
   "outputs": [],
   "source": [
    "housing = datasets.fetch_california_housing() # 该类数据集较大，不随datasets模块载入，使用前需要从网络下载fetch\n",
    "#print housing.DESCR # 查看对数据集的描述"
   ]
  },
  {
   "cell_type": "code",
   "execution_count": 7,
   "metadata": {
    "collapsed": false
   },
   "outputs": [
    {
     "data": {
      "text/plain": [
       "'C:\\\\Users\\\\31537\\\\scikit_learn_data'"
      ]
     },
     "execution_count": 7,
     "metadata": {},
     "output_type": "execute_result"
    }
   ],
   "source": [
    "# fetch方法的第一个参数为data_home，可以设置该数据集下载后的存储位置\n",
    "datasets.get_data_home() # 查看fetch下来的数据集的默认存储位置"
   ]
  },
  {
   "cell_type": "code",
   "execution_count": 8,
   "metadata": {
    "collapsed": true
   },
   "outputs": [],
   "source": [
    "X, y = boston.data, boston.target # 通过data和target属性，获取解释变量和被解释变量"
   ]
  },
  {
   "cell_type": "markdown",
   "metadata": {},
   "source": [
    "其他的数据获得途径包括：UCI Machine Learning Repository、KDD、政府网站、Kaggle competitions等"
   ]
  },
  {
   "cell_type": "raw",
   "metadata": {},
   "source": []
  },
  {
   "cell_type": "markdown",
   "metadata": {},
   "source": [
    "# 生成模拟数据集"
   ]
  },
  {
   "cell_type": "code",
   "execution_count": 9,
   "metadata": {
    "collapsed": true
   },
   "outputs": [],
   "source": [
    "from sklearn import datasets"
   ]
  },
  {
   "cell_type": "markdown",
   "metadata": {},
   "source": [
    "## make方法 "
   ]
  },
  {
   "cell_type": "raw",
   "metadata": {},
   "source": [
    "datasets.make_*? # 查看datasets模块中的模拟数据集"
   ]
  },
  {
   "cell_type": "markdown",
   "metadata": {},
   "source": [
    "### 回归数据集\n",
    "datasets.make_regression函数"
   ]
  },
  {
   "cell_type": "code",
   "execution_count": 10,
   "metadata": {
    "collapsed": true
   },
   "outputs": [],
   "source": [
    "reg_data = datasets.make_regression() # 产生一个元组：第1个元素为100*100的矩阵（100个样本、100个特征），其中10个特征有意义；第2个元素为被解释变量"
   ]
  },
  {
   "cell_type": "code",
   "execution_count": 11,
   "metadata": {
    "collapsed": false
   },
   "outputs": [
    {
     "data": {
      "text/plain": [
       "((100L, 100L), (100L,))"
      ]
     },
     "execution_count": 11,
     "metadata": {},
     "output_type": "execute_result"
    }
   ],
   "source": [
    "reg_data[0].shape, reg_data[1].shape"
   ]
  },
  {
   "cell_type": "code",
   "execution_count": 12,
   "metadata": {
    "collapsed": false
   },
   "outputs": [],
   "source": [
    "complex_reg_data = datasets.make_regression(1000, 10, 5, 2, 1.0) # 生成1000*10的矩阵，5个特征有意义，偏误项为1.0，被解释变量为2维向量"
   ]
  },
  {
   "cell_type": "code",
   "execution_count": 13,
   "metadata": {
    "collapsed": false
   },
   "outputs": [
    {
     "data": {
      "text/plain": [
       "((1000L, 10L), (1000L, 2L))"
      ]
     },
     "execution_count": 13,
     "metadata": {},
     "output_type": "execute_result"
    }
   ],
   "source": [
    "complex_reg_data[0].shape, complex_reg_data[1].shape"
   ]
  },
  {
   "cell_type": "markdown",
   "metadata": {},
   "source": [
    "### 分类数据集\n",
    "make_classification函数"
   ]
  },
  {
   "cell_type": "code",
   "execution_count": 14,
   "metadata": {
    "collapsed": true
   },
   "outputs": [],
   "source": [
    "classification_set = datasets.make_classification(weights=[0.1]) # 生成100*20的矩阵，2个特征有意义，2个类别\n",
    "# weights参数，为了模拟现实情况，需要生成不平衡的分类数据集；参数为list形式，当list中元素个数为类别数-1，则自动计算最后一类的比例"
   ]
  },
  {
   "cell_type": "code",
   "execution_count": 15,
   "metadata": {
    "collapsed": false
   },
   "outputs": [
    {
     "data": {
      "text/plain": [
       "array([10, 90], dtype=int64)"
      ]
     },
     "execution_count": 15,
     "metadata": {},
     "output_type": "execute_result"
    }
   ],
   "source": [
    "np.bincount(classification_set[1]) # 0类有10个样本，1类有90个样本"
   ]
  },
  {
   "cell_type": "code",
   "execution_count": 16,
   "metadata": {
    "collapsed": false
   },
   "outputs": [
    {
     "data": {
      "text/plain": [
       "(100L, 20L)"
      ]
     },
     "execution_count": 16,
     "metadata": {},
     "output_type": "execute_result"
    }
   ],
   "source": [
    "classification_set[0].shape"
   ]
  },
  {
   "cell_type": "markdown",
   "metadata": {},
   "source": [
    "### 聚类数据集\n",
    "make_blobs函数"
   ]
  },
  {
   "cell_type": "code",
   "execution_count": 17,
   "metadata": {
    "collapsed": true
   },
   "outputs": [],
   "source": [
    "blobs = datasets.make_blobs() # 生成聚类数据集"
   ]
  },
  {
   "cell_type": "code",
   "execution_count": 18,
   "metadata": {
    "collapsed": false
   },
   "outputs": [],
   "source": [
    "cluster_0 = blobs[0][blobs[1]==0]\n",
    "cluster_1 = blobs[0][blobs[1]==1]\n",
    "cluster_2 = blobs[0][blobs[1]==2]"
   ]
  },
  {
   "cell_type": "code",
   "execution_count": 19,
   "metadata": {
    "collapsed": false
   },
   "outputs": [
    {
     "data": {
      "image/png": "[encoded data removed]",
      "text/plain": [
       "<matplotlib.figure.Figure at 0xa0354e0>"
      ]
     },
     "metadata": {},
     "output_type": "display_data"
    }
   ],
   "source": [
    "for i in xrange(cluster_0.shape[0]):\n",
    "    plt.scatter(cluster_0[i][0], cluster_0[i][1], color='blue')\n",
    "for i in xrange(cluster_1.shape[0]):\n",
    "    plt.scatter(cluster_1[i][0], cluster_1[i][1], color='green')\n",
    "for i in xrange(cluster_2.shape[0]):\n",
    "    plt.scatter(cluster_2[i][0], cluster_2[i][1], color='red')\n",
    "plt.show() # 绘制模拟生成的聚类数据集"
   ]
  },
  {
   "cell_type": "markdown",
   "metadata": {},
   "source": [
    "### 源代码"
   ]
  },
  {
   "cell_type": "raw",
   "metadata": {},
   "source": [
    "def make_regression(n_samples, n_features, n_informative, n_targets, bias):\n",
    "    X = np.random.randn(n_samples, n_features) # 生成解释变量X矩阵\n",
    "    ground_truth = np.zeroes((np_samples, n_target))\n",
    "    ground_truth[:n_informative, :] = 100*np.random.rand(n_informative, n_targets)\n",
    "    y = np.dot(X, ground_truth) + bias # 生成被解释变量y矩阵\n",
    "    return X, y"
   ]
  },
  {
   "cell_type": "raw",
   "metadata": {},
   "source": []
  },
  {
   "cell_type": "markdown",
   "metadata": {},
   "source": [
    "# 数据标准化"
   ]
  },
  {
   "cell_type": "code",
   "execution_count": 20,
   "metadata": {
    "collapsed": true
   },
   "outputs": [],
   "source": [
    "from sklearn import preprocessing"
   ]
  },
  {
   "cell_type": "markdown",
   "metadata": {},
   "source": [
    "## 将特征转化为标准正态分布\n",
    "preprocessing.scale函数  \n",
    "preprocessing.StandardScaler类"
   ]
  },
  {
   "cell_type": "markdown",
   "metadata": {},
   "source": [
    "### 函数"
   ]
  },
  {
   "cell_type": "code",
   "execution_count": 21,
   "metadata": {
    "collapsed": false
   },
   "outputs": [
    {
     "data": {
      "text/plain": [
       "array([  3.59376071,  11.36363636,  11.13677866])"
      ]
     },
     "execution_count": 21,
     "metadata": {},
     "output_type": "execute_result"
    }
   ],
   "source": [
    "X[:, :3].mean(axis=0) # boston数据集，前3个特征的均值"
   ]
  },
  {
   "cell_type": "code",
   "execution_count": 22,
   "metadata": {
    "collapsed": false
   },
   "outputs": [
    {
     "data": {
      "text/plain": [
       "array([  8.58828355,  23.29939569,   6.85357058])"
      ]
     },
     "execution_count": 22,
     "metadata": {},
     "output_type": "execute_result"
    }
   ],
   "source": [
    "X[:, :3].std(axis=0) # 前3个特征的方差"
   ]
  },
  {
   "cell_type": "code",
   "execution_count": 23,
   "metadata": {
    "collapsed": true
   },
   "outputs": [],
   "source": [
    "X_2 = preprocessing.scale(X[:, :3]) # preprocessing.scale(X, axis=0, with_mean=True, with_std=True, copy=True)，默认按特征将数据转化为标准状态分布"
   ]
  },
  {
   "cell_type": "code",
   "execution_count": 24,
   "metadata": {
    "collapsed": false
   },
   "outputs": [
    {
     "data": {
      "text/plain": [
       "array([  6.34099712e-17,  -6.34319123e-16,  -2.68291099e-15])"
      ]
     },
     "execution_count": 24,
     "metadata": {},
     "output_type": "execute_result"
    }
   ],
   "source": [
    "X_2.mean(axis=0)"
   ]
  },
  {
   "cell_type": "code",
   "execution_count": 25,
   "metadata": {
    "collapsed": false
   },
   "outputs": [
    {
     "data": {
      "text/plain": [
       "array([ 1.,  1.,  1.])"
      ]
     },
     "execution_count": 25,
     "metadata": {},
     "output_type": "execute_result"
    }
   ],
   "source": [
    "X_2.std(axis=0)"
   ]
  },
  {
   "cell_type": "markdown",
   "metadata": {},
   "source": [
    "### 类"
   ]
  },
  {
   "cell_type": "code",
   "execution_count": 26,
   "metadata": {
    "collapsed": false
   },
   "outputs": [
    {
     "data": {
      "text/plain": [
       "array([  6.34099712e-17,  -6.34319123e-16,  -2.68291099e-15])"
      ]
     },
     "execution_count": 26,
     "metadata": {},
     "output_type": "execute_result"
    }
   ],
   "source": [
    "my_scaler = preprocessing.StandardScaler() # 生成StandardScaler类\n",
    "my_scaler.fit(X[:, :3]) # 分别计算每个特征的均值、方差，并储存在实例中\n",
    "my_scaler.transform(X[:, :3]).mean(axis=0) # 使用存储在实例中的均值、方差，将特征转化为标准正态分布"
   ]
  },
  {
   "cell_type": "code",
   "execution_count": 27,
   "metadata": {
    "collapsed": false
   },
   "outputs": [
    {
     "data": {
      "text/plain": [
       "array([  6.34099712e-17,  -6.34319123e-16,  -2.68291099e-15])"
      ]
     },
     "execution_count": 27,
     "metadata": {},
     "output_type": "execute_result"
    }
   ],
   "source": [
    "my_scaler_2 = preprocessing.StandardScaler() # 生成StandardScaler类\n",
    "my_scaler_2.fit_transform(X[:, :3]).mean(axis=0) # fit_transform方法"
   ]
  },
  {
   "cell_type": "markdown",
   "metadata": {},
   "source": [
    "## 将特征转化到一定区间内\n",
    "preprocessing.minmax_scale函数  \n",
    "preprocessing.MinMaxScaler类"
   ]
  },
  {
   "cell_type": "code",
   "execution_count": 28,
   "metadata": {
    "collapsed": false
   },
   "outputs": [
    {
     "data": {
      "text/plain": [
       "(array([ 0.,  0.,  0.]), array([ 1.,  1.,  1.]))"
      ]
     },
     "execution_count": 28,
     "metadata": {},
     "output_type": "execute_result"
    }
   ],
   "source": [
    "my_minmax_scaler = preprocessing.MinMaxScaler() # 默认将数据转化到区间[0,1]\n",
    "my_minmax_scaler.fit(X[:, :3])\n",
    "my_minmax_scaler.transform(X[:, :3]).min(axis=0), my_minmax_scaler.transform(X[:, :3]).max(axis=0)"
   ]
  },
  {
   "cell_type": "code",
   "execution_count": 29,
   "metadata": {
    "collapsed": false
   },
   "outputs": [
    {
     "data": {
      "text/plain": [
       "(array([-3.14, -3.14, -3.14]), array([ 3.14,  3.14,  3.14]))"
      ]
     },
     "execution_count": 29,
     "metadata": {},
     "output_type": "execute_result"
    }
   ],
   "source": [
    "my_odd_scaler = preprocessing.MinMaxScaler(feature_range=(-3.14, 3.14)) # feature_range参数，设置转化的区间\n",
    "my_odd_scaler.fit(X[:, :3])\n",
    "my_odd_scaler.transform(X[:, :3]).min(axis=0), my_odd_scaler.transform(X[:, :3]).max(axis=0)"
   ]
  },
  {
   "cell_type": "markdown",
   "metadata": {},
   "source": [
    "## 将样本转化为模为1的向量\n",
    "用欧氏距离来度量样本之间的距离时，需要先将样本规范化为模为1的向量  \n",
    "preprocessing.normalize函数  \n",
    "preprocessing.Normalizer类"
   ]
  },
  {
   "cell_type": "code",
   "execution_count": 30,
   "metadata": {
    "collapsed": true
   },
   "outputs": [],
   "source": [
    "normalized_X = preprocessing.normalize(X[:, :3]) # 每个样本由一个模为1的三维向量表示"
   ]
  },
  {
   "cell_type": "markdown",
   "metadata": {},
   "source": [
    "## 幂等变换\n",
    "意味着对数据变换N次，与变换1次的效果相同"
   ]
  },
  {
   "cell_type": "code",
   "execution_count": 31,
   "metadata": {
    "collapsed": false
   },
   "outputs": [
    {
     "data": {
      "text/plain": [
       "True"
      ]
     },
     "execution_count": 31,
     "metadata": {},
     "output_type": "execute_result"
    }
   ],
   "source": [
    "my_useless_scaler = preprocessing.StandardScaler(with_mean=False, with_std=False) # 无论对数据变换多少次，返回的结果都与原数据相同 —— 幂等变换\n",
    "transformed_sd = my_useless_scaler .fit_transform(X[:, :3]).std(axis=0)\n",
    "original_sd = X[:, :3].std(axis=0)\n",
    "np.array_equal(transformed_sd, original_sd) # 变换前后的数据一致"
   ]
  },
  {
   "cell_type": "markdown",
   "metadata": {},
   "source": [
    "## 稀疏矩阵\n",
    "稀疏矩阵中有大量的0元素，将稀疏矩阵转化为标准正态分布、转化到一定区间等操作，会使0元素不再为0，破坏数据的结构。因而无法对稀疏矩阵进行涉及到中心化、整体移动等让元素0不再为0的操作。"
   ]
  },
  {
   "cell_type": "markdown",
   "metadata": {},
   "source": [
    "### 将特征转化为标准正态分布"
   ]
  },
  {
   "cell_type": "code",
   "execution_count": 32,
   "metadata": {
    "collapsed": true
   },
   "outputs": [],
   "source": [
    "matrix = scipy.sparse.eye(1000)"
   ]
  },
  {
   "cell_type": "raw",
   "metadata": {},
   "source": [
    "preprocessing.scale(matrix) # 无法转化为标准状态分布，会报错"
   ]
  },
  {
   "cell_type": "raw",
   "metadata": {},
   "source": [
    "---------------------------------------------------------------------------\n",
    "ValueError                                Traceback (most recent call last)\n",
    "<ipython-input-43-8c0725b5280a> in <module>()\n",
    "      1 matrix = scipy.sparse.eye(1000)\n",
    "----> 2 preprocessing.scale(matrix)\n",
    "\n",
    "C:\\Anaconda2\\lib\\site-packages\\sklearn\\preprocessing\\data.pyc in scale(X, axis, with_mean, with_std, copy)\n",
    "    131         if with_mean:\n",
    "    132             raise ValueError(\n",
    "--> 133                 \"Cannot center sparse matrices: pass `with_mean=False` instead\"\n",
    "    134                 \" See docstring for motivation and alternatives.\")\n",
    "    135         if axis != 0:\n",
    "\n",
    "ValueError: Cannot center sparse matrices: pass `with_mean=False` instead See docstring for motivation and alternatives."
   ]
  },
  {
   "cell_type": "code",
   "execution_count": 33,
   "metadata": {
    "collapsed": false
   },
   "outputs": [
    {
     "data": {
      "text/plain": [
       "<1000x1000 sparse matrix of type '<type 'numpy.float64'>'\n",
       "\twith 1000 stored elements in Compressed Sparse Row format>"
      ]
     },
     "execution_count": 33,
     "metadata": {},
     "output_type": "execute_result"
    }
   ],
   "source": [
    "preprocessing.scale(matrix, with_mean=False) # 无法对稀疏矩阵中心化，因而只将数据的标准差转化为1"
   ]
  },
  {
   "cell_type": "code",
   "execution_count": null,
   "metadata": {
    "collapsed": true
   },
   "outputs": [],
   "source": []
  },
  {
   "cell_type": "markdown",
   "metadata": {},
   "source": [
    "### 将特征转化到一定区间内"
   ]
  },
  {
   "cell_type": "raw",
   "metadata": {},
   "source": [
    "my_odd_scaler = preprocessing.MinMaxScaler(feature_range=(-3.14, 3.14)) # 无法转化到一定区间内，会报错\n",
    "my_odd_scaler.fit(matrix)\n",
    "my_odd_scaler.transform(matrix).max(axis=0)"
   ]
  },
  {
   "cell_type": "raw",
   "metadata": {},
   "source": [
    "---------------------------------------------------------------------------\n",
    "TypeError                                 Traceback (most recent call last)\n",
    "<ipython-input-45-9e588e719bd6> in <module>()\n",
    "      1 my_odd_scaler = preprocessing.MinMaxScaler(feature_range=(-3.14, 3.14)) # feature_range参数，设置转化的区间\n",
    "----> 2 my_odd_scaler.fit(matrix)\n",
    "      3 my_odd_scaler.transform(matrix).min(axis=0)\n",
    "\n",
    "C:\\Anaconda2\\lib\\site-packages\\sklearn\\preprocessing\\data.pyc in fit(self, X, y)\n",
    "    293         # Reset internal state before fitting\n",
    "    294         self._reset()\n",
    "--> 295         return self.partial_fit(X, y)\n",
    "    296 \n",
    "    297     def partial_fit(self, X, y=None):\n",
    "\n",
    "C:\\Anaconda2\\lib\\site-packages\\sklearn\\preprocessing\\data.pyc in partial_fit(self, X, y)\n",
    "    315 \n",
    "    316         if sparse.issparse(X):\n",
    "--> 317             raise TypeError(\"MinMaxScaler does no support sparse input. \"\n",
    "    318                             \"You may consider to use MaxAbsScaler instead.\")\n",
    "    319 \n",
    "\n",
    "TypeError: MinMaxScaler does no support sparse input. You may consider to use MaxAbsScaler instead."
   ]
  },
  {
   "cell_type": "code",
   "execution_count": 34,
   "metadata": {
    "collapsed": false
   },
   "outputs": [
    {
     "data": {
      "text/plain": [
       "<1x1000 sparse matrix of type '<type 'numpy.float64'>'\n",
       "\twith 1000 stored elements in COOrdinate format>"
      ]
     },
     "execution_count": 34,
     "metadata": {},
     "output_type": "execute_result"
    }
   ],
   "source": [
    "my_odd_scaler = preprocessing.MaxAbsScaler() # 将数据转化到[-1,1]区间内，不会整体移动数据，0元素依然为0\n",
    "my_odd_scaler.fit(matrix)\n",
    "my_odd_scaler.transform(matrix).max(axis=0)"
   ]
  },
  {
   "cell_type": "markdown",
   "metadata": {},
   "source": [
    "### 将样本转化为模为1的向量"
   ]
  },
  {
   "cell_type": "code",
   "execution_count": 35,
   "metadata": {
    "collapsed": true
   },
   "outputs": [],
   "source": [
    "normalized_matrix = preprocessing.normalize(matrix) # 将样本转化为模为1的向量，仍然可以操作，因为元素0依然为0"
   ]
  },
  {
   "cell_type": "raw",
   "metadata": {},
   "source": []
  },
  {
   "cell_type": "markdown",
   "metadata": {},
   "source": [
    "# 将连续变量转化为二值类别变量\n",
    "preprocessing.binarize函数  \n",
    "preprocessing.Binarizer类"
   ]
  },
  {
   "cell_type": "code",
   "execution_count": 36,
   "metadata": {
    "collapsed": true
   },
   "outputs": [],
   "source": [
    "from sklearn import preprocessing\n",
    "from sklearn import datasets\n",
    "boston = datasets.load_boston()"
   ]
  },
  {
   "cell_type": "markdown",
   "metadata": {},
   "source": [
    "## 函数"
   ]
  },
  {
   "cell_type": "code",
   "execution_count": 37,
   "metadata": {
    "collapsed": false
   },
   "outputs": [
    {
     "data": {
      "text/plain": [
       "array([[ 1.],\n",
       "       [ 0.],\n",
       "       [ 1.],\n",
       "       [ 1.],\n",
       "       [ 1.]])"
      ]
     },
     "execution_count": 37,
     "metadata": {},
     "output_type": "execute_result"
    }
   ],
   "source": [
    "new_target = preprocessing.binarize(boston.target.reshape(-1, 1), threshold=boston.target.mean()) # 大于阈值的转化为1，小于等于阈值的转化为0\n",
    "new_target[:5] # 在sklearn中，不能传入一维数组，所以boston.target需要reshape为二维数组"
   ]
  },
  {
   "cell_type": "code",
   "execution_count": 38,
   "metadata": {
    "collapsed": false
   },
   "outputs": [
    {
     "data": {
      "text/plain": [
       "array([1, 0, 1, 1, 1])"
      ]
     },
     "execution_count": 38,
     "metadata": {},
     "output_type": "execute_result"
    }
   ],
   "source": [
    "(boston.target[:5] > boston.target.mean()).astype(int) # 检查转化过程是否正确"
   ]
  },
  {
   "cell_type": "markdown",
   "metadata": {},
   "source": [
    "## 类"
   ]
  },
  {
   "cell_type": "code",
   "execution_count": 39,
   "metadata": {
    "collapsed": false
   },
   "outputs": [
    {
     "data": {
      "text/plain": [
       "array([[ 1.],\n",
       "       [ 0.],\n",
       "       [ 1.],\n",
       "       [ 1.],\n",
       "       [ 1.]])"
      ]
     },
     "execution_count": 39,
     "metadata": {},
     "output_type": "execute_result"
    }
   ],
   "source": [
    "bin = preprocessing.Binarizer(boston.target.mean())\n",
    "new_target = bin.fit_transform(boston.target.reshape(-1, 1))\n",
    "new_target[:5]"
   ]
  },
  {
   "cell_type": "markdown",
   "metadata": {},
   "source": [
    "## 稀疏矩阵\n",
    "为了节省内存，稀疏矩阵中的0元素没有被存储。所以，在将稀疏矩阵转化为二值类别变量时，阈值不能小于0"
   ]
  },
  {
   "cell_type": "code",
   "execution_count": 40,
   "metadata": {
    "collapsed": true
   },
   "outputs": [],
   "source": [
    "from scipy.sparse import coo\n",
    "spar = coo.coo_matrix(np.random.binomial(1, .25, 100))"
   ]
  },
  {
   "cell_type": "raw",
   "metadata": {},
   "source": [
    "preprocessing.binarize(spar, threshold=-1) # 阈值不可以小于0"
   ]
  },
  {
   "cell_type": "raw",
   "metadata": {},
   "source": [
    "---------------------------------------------------------------------------\n",
    "ValueError                                Traceback (most recent call last)\n",
    "<ipython-input-46-c9b5156c63ab> in <module>()\n",
    "      1 from scipy.sparse import coo\n",
    "      2 spar = coo.coo_matrix(np.random.binomial(1, .25, 100))\n",
    "----> 3 preprocessing.binarize(spar, threshold=-1)\n",
    "\n",
    "C:\\Anaconda2\\lib\\site-packages\\sklearn\\preprocessing\\data.pyc in binarize(X, threshold, copy)\n",
    "   1405     if sparse.issparse(X):\n",
    "   1406         if threshold < 0:\n",
    "-> 1407             raise ValueError('Cannot binarize a sparse matrix with threshold '\n",
    "   1408                              '< 0')\n",
    "   1409         cond = X.data > threshold\n",
    "\n",
    "ValueError: Cannot binarize a sparse matrix with threshold < 0"
   ]
  },
  {
   "cell_type": "markdown",
   "metadata": {},
   "source": [
    "## fit方法"
   ]
  },
  {
   "cell_type": "code",
   "execution_count": 41,
   "metadata": {
    "collapsed": false
   },
   "outputs": [
    {
     "data": {
      "text/plain": [
       "array([[ 1.],\n",
       "       [ 0.],\n",
       "       [ 1.],\n",
       "       [ 1.],\n",
       "       [ 1.]])"
      ]
     },
     "execution_count": 41,
     "metadata": {},
     "output_type": "execute_result"
    }
   ],
   "source": [
    "bin = preprocessing.Binarizer(boston.target.mean()) # 不同于其他变化方法，这里参数是在生成实例的时候传入，而不是在fit方法中传入\n",
    "new_target = bin.fit(boston.target.reshape(-1, 1)) # fit方法没有任何作用，仅仅返回实例本身；fit存在的意义是与其他方法保存一致，方便在pipelines中使用\n",
    "new_target = bin.transform(boston.target.reshape(-1, 1))\n",
    "new_target[:5]"
   ]
  },
  {
   "cell_type": "raw",
   "metadata": {},
   "source": []
  },
  {
   "cell_type": "markdown",
   "metadata": {},
   "source": [
    "# 对自变量中的类别变量进行独热编码\n",
    "OneHotEncoder类"
   ]
  },
  {
   "cell_type": "code",
   "execution_count": 42,
   "metadata": {
    "collapsed": false
   },
   "outputs": [],
   "source": [
    "from sklearn import preprocessing\n",
    "from sklearn import datasets\n",
    "import numpy as np\n",
    "iris = datasets.load_iris()\n",
    "X = iris.data\n",
    "y = iris.target\n",
    "d = np.column_stack((X, y))"
   ]
  },
  {
   "cell_type": "code",
   "execution_count": 43,
   "metadata": {
    "collapsed": false
   },
   "outputs": [
    {
     "data": {
      "text/plain": [
       "array([[ 1.,  0.,  0.],\n",
       "       [ 1.,  0.,  0.],\n",
       "       [ 1.,  0.,  0.],\n",
       "       [ 1.,  0.,  0.],\n",
       "       [ 1.,  0.,  0.]])"
      ]
     },
     "execution_count": 43,
     "metadata": {},
     "output_type": "execute_result"
    }
   ],
   "source": [
    "text_encoder = preprocessing.OneHotEncoder()\n",
    "text_encoder.fit_transform(d[:, -1:]).toarray()[:5]"
   ]
  },
  {
   "cell_type": "code",
   "execution_count": 44,
   "metadata": {
    "collapsed": false
   },
   "outputs": [
    {
     "data": {
      "text/plain": [
       "array([[ 0.,  1.,  0.],\n",
       "       [ 0.,  1.,  0.],\n",
       "       [ 0.,  1.,  0.]])"
      ]
     },
     "execution_count": 44,
     "metadata": {},
     "output_type": "execute_result"
    }
   ],
   "source": [
    "# text_encoder实例的transform方法可以重复使用，且转化规则由初次fit时决定\n",
    "text_encoder.transform(np.ones((3, 1))).toarray()"
   ]
  },
  {
   "cell_type": "raw",
   "metadata": {},
   "source": []
  },
  {
   "cell_type": "markdown",
   "metadata": {},
   "source": [
    "# 对因变量中的类别变量进行one-vs-all编码\n",
    "LabelBinarizer类"
   ]
  },
  {
   "cell_type": "code",
   "execution_count": 45,
   "metadata": {
    "collapsed": true
   },
   "outputs": [],
   "source": [
    "from sklearn.preprocessing import LabelBinarizer\n",
    "from sklearn import datasets\n",
    "iris = datasets.load_iris()\n",
    "target = iris.target"
   ]
  },
  {
   "cell_type": "code",
   "execution_count": 46,
   "metadata": {
    "collapsed": false
   },
   "outputs": [
    {
     "data": {
      "text/plain": [
       "array([[1],\n",
       "       [0],\n",
       "       [0],\n",
       "       [1]])"
      ]
     },
     "execution_count": 46,
     "metadata": {},
     "output_type": "execute_result"
    }
   ],
   "source": [
    "lb = preprocessing.LabelBinarizer()\n",
    "lb.fit_transform(['yes', 'no', 'no', 'yes']) # 因变量为两类别时，转化为0、1向量"
   ]
  },
  {
   "cell_type": "code",
   "execution_count": 47,
   "metadata": {
    "collapsed": false
   },
   "outputs": [
    {
     "data": {
      "text/plain": [
       "array([[1, 0, 0],\n",
       "       [1, 0, 0],\n",
       "       [1, 0, 0],\n",
       "       [1, 0, 0],\n",
       "       [1, 0, 0]])"
      ]
     },
     "execution_count": 47,
     "metadata": {},
     "output_type": "execute_result"
    }
   ],
   "source": [
    "label_binarizer = LabelBinarizer()\n",
    "new_target = label_binarizer.fit_transform(target) # 因变量为多类别时，进行one-vs-all编码，矩阵的列数为类别数，每一列代表是否属于一个类别\n",
    "new_target[:5]"
   ]
  },
  {
   "cell_type": "code",
   "execution_count": 48,
   "metadata": {
    "collapsed": false
   },
   "outputs": [
    {
     "data": {
      "text/plain": [
       "array([[ 1000, -1000, -1000],\n",
       "       [ 1000, -1000, -1000],\n",
       "       [ 1000, -1000, -1000],\n",
       "       [ 1000, -1000, -1000],\n",
       "       [ 1000, -1000, -1000]])"
      ]
     },
     "execution_count": 48,
     "metadata": {},
     "output_type": "execute_result"
    }
   ],
   "source": [
    "label_binarizer = LabelBinarizer(neg_label=-1000, pos_label=1000) # 默认用0、1编码，可以设置用其他数值编码\n",
    "label_binarizer.fit_transform(target)[:5]"
   ]
  },
  {
   "cell_type": "raw",
   "metadata": {},
   "source": []
  },
  {
   "cell_type": "markdown",
   "metadata": {},
   "source": [
    "# 填补缺失值\n",
    "Imputer类"
   ]
  },
  {
   "cell_type": "markdown",
   "metadata": {},
   "source": [
    "## Imputer类"
   ]
  },
  {
   "cell_type": "code",
   "execution_count": 49,
   "metadata": {
    "collapsed": true
   },
   "outputs": [],
   "source": [
    "from sklearn import preprocessing"
   ]
  },
  {
   "cell_type": "code",
   "execution_count": 50,
   "metadata": {
    "collapsed": false
   },
   "outputs": [
    {
     "data": {
      "text/plain": [
       "array([[ nan,  3.5,  nan,  0.2],\n",
       "       [ nan,  3. ,  1.4,  0.2],\n",
       "       [ 4.7,  3.2,  1.3,  0.2],\n",
       "       [ 4.6,  nan,  1.5,  0.2],\n",
       "       [ nan,  3.6,  nan,  0.2]])"
      ]
     },
     "execution_count": 50,
     "metadata": {},
     "output_type": "execute_result"
    }
   ],
   "source": [
    "# 生成缺失值数据集\n",
    "from sklearn import datasets\n",
    "import numpy as np\n",
    "iris = datasets.load_iris()\n",
    "iris_X = iris.data\n",
    "masking_array = np.random.binomial(1, .25, iris_X.shape).astype(bool)\n",
    "iris_X[masking_array] = np.nan\n",
    "iris_X[:5]"
   ]
  },
  {
   "cell_type": "code",
   "execution_count": 51,
   "metadata": {
    "collapsed": false
   },
   "outputs": [
    {
     "data": {
      "text/plain": [
       "array([[ 5.83362069,  3.5       ,  3.80555556,  0.2       ],\n",
       "       [ 5.83362069,  3.        ,  1.4       ,  0.2       ],\n",
       "       [ 4.7       ,  3.2       ,  1.3       ,  0.2       ],\n",
       "       [ 4.6       ,  3.09065421,  1.5       ,  0.2       ],\n",
       "       [ 5.83362069,  3.6       ,  3.80555556,  0.2       ]])"
      ]
     },
     "execution_count": 51,
     "metadata": {},
     "output_type": "execute_result"
    }
   ],
   "source": [
    "impute = preprocessing.Imputer() # 默认用均值填充缺失值\n",
    "iris_X_prime = impute.fit_transform(iris_X)\n",
    "iris_X_prime[:5]"
   ]
  },
  {
   "cell_type": "code",
   "execution_count": 52,
   "metadata": {
    "collapsed": false
   },
   "outputs": [
    {
     "data": {
      "text/plain": [
       "array([[ 5.8 ,  3.5 ,  4.35,  0.2 ],\n",
       "       [ 5.8 ,  3.  ,  1.4 ,  0.2 ],\n",
       "       [ 4.7 ,  3.2 ,  1.3 ,  0.2 ],\n",
       "       [ 4.6 ,  3.  ,  1.5 ,  0.2 ],\n",
       "       [ 5.8 ,  3.6 ,  4.35,  0.2 ]])"
      ]
     },
     "execution_count": 52,
     "metadata": {},
     "output_type": "execute_result"
    }
   ],
   "source": [
    "impute = preprocessing.Imputer(strategy='median') # 用中位数填充缺失值\n",
    "iris_X_prime = impute.fit_transform(iris_X)\n",
    "iris_X_prime[:5]"
   ]
  },
  {
   "cell_type": "code",
   "execution_count": 53,
   "metadata": {
    "collapsed": false
   },
   "outputs": [
    {
     "data": {
      "text/plain": [
       "array([[ 5. ,  3.5,  1.5,  0.2],\n",
       "       [ 5. ,  3. ,  1.4,  0.2],\n",
       "       [ 4.7,  3.2,  1.3,  0.2],\n",
       "       [ 4.6,  3. ,  1.5,  0.2],\n",
       "       [ 5. ,  3.6,  1.5,  0.2]])"
      ]
     },
     "execution_count": 53,
     "metadata": {},
     "output_type": "execute_result"
    }
   ],
   "source": [
    "impute = preprocessing.Imputer(strategy='most_frequent') # 用出现频率最高的数填充缺失值\n",
    "iris_X_prime = impute.fit_transform(iris_X)\n",
    "iris_X_prime[:5]"
   ]
  },
  {
   "cell_type": "code",
   "execution_count": 54,
   "metadata": {
    "collapsed": false
   },
   "outputs": [
    {
     "data": {
      "text/plain": [
       "array([[-1. ,  3.5, -1. ,  0.2],\n",
       "       [-1. ,  3. ,  1.4,  0.2],\n",
       "       [ 4.7,  3.2,  1.3,  0.2],\n",
       "       [ 4.6, -1. ,  1.5,  0.2],\n",
       "       [-1. ,  3.6, -1. ,  0.2]])"
      ]
     },
     "execution_count": 54,
     "metadata": {},
     "output_type": "execute_result"
    }
   ],
   "source": [
    "iris_X[np.isnan(iris_X)] = -1 # 缺失值用-1而非np.nan表示\n",
    "iris_X[:5]"
   ]
  },
  {
   "cell_type": "code",
   "execution_count": 55,
   "metadata": {
    "collapsed": false
   },
   "outputs": [
    {
     "data": {
      "text/plain": [
       "array([[ 5.83362069,  3.5       ,  3.80555556,  0.2       ],\n",
       "       [ 5.83362069,  3.        ,  1.4       ,  0.2       ],\n",
       "       [ 4.7       ,  3.2       ,  1.3       ,  0.2       ],\n",
       "       [ 4.6       ,  3.09065421,  1.5       ,  0.2       ],\n",
       "       [ 5.83362069,  3.6       ,  3.80555556,  0.2       ]])"
      ]
     },
     "execution_count": 55,
     "metadata": {},
     "output_type": "execute_result"
    }
   ],
   "source": [
    "impute = preprocessing.Imputer(missing_values=-1) # 指定-1为缺失值\n",
    "iris_X_prime = impute.fit_transform(iris_X)\n",
    "iris_X_prime[:5]"
   ]
  },
  {
   "cell_type": "markdown",
   "metadata": {},
   "source": [
    "## fillna方法\n",
    "相比之下，pandas中的fillna更为灵活，可以有多种填充策略"
   ]
  },
  {
   "cell_type": "code",
   "execution_count": 56,
   "metadata": {
    "collapsed": false
   },
   "outputs": [
    {
     "data": {
      "text/plain": [
       "0    5.833621\n",
       "1    5.833621\n",
       "2    4.700000\n",
       "3    4.600000\n",
       "4    5.833621\n",
       "Name: sepal length (cm), dtype: float64"
      ]
     },
     "execution_count": 56,
     "metadata": {},
     "output_type": "execute_result"
    }
   ],
   "source": [
    "import pandas as pd\n",
    "iris_X[masking_array] = np.nan\n",
    "iris_df = pd.DataFrame(iris_X, columns=iris.feature_names)\n",
    "iris_df.fillna(iris_df.mean())['sepal length (cm)'].head(5)"
   ]
  },
  {
   "cell_type": "code",
   "execution_count": 57,
   "metadata": {
    "collapsed": false,
    "scrolled": true
   },
   "outputs": [
    {
     "data": {
      "text/plain": [
       "0    7.9\n",
       "1    7.9\n",
       "2    4.7\n",
       "3    4.6\n",
       "4    7.9\n",
       "Name: sepal length (cm), dtype: float64"
      ]
     },
     "execution_count": 57,
     "metadata": {},
     "output_type": "execute_result"
    }
   ],
   "source": [
    "iris_df.fillna(iris_df.max())['sepal length (cm)'].head(5)"
   ]
  },
  {
   "cell_type": "raw",
   "metadata": {},
   "source": []
  },
  {
   "cell_type": "markdown",
   "metadata": {},
   "source": [
    "# 使用Pipelines来进行多步骤的数据预处理\n",
    "Pipelines类"
   ]
  },
  {
   "cell_type": "code",
   "execution_count": 58,
   "metadata": {
    "collapsed": false
   },
   "outputs": [
    {
     "data": {
      "text/plain": [
       "array([[ 0.38228385, -0.15518794,  0.13231738,  0.17836821],\n",
       "       [-0.15518794,         nan, -0.47427313, -0.27101722],\n",
       "       [ 0.13231738, -0.47427313,         nan,  0.70438399],\n",
       "       [ 0.17836821, -0.27101722,  0.70438399,  0.85776832]])"
      ]
     },
     "execution_count": 58,
     "metadata": {},
     "output_type": "execute_result"
    }
   ],
   "source": [
    "# 生成缺失值数据集\n",
    "from sklearn import datasets\n",
    "import numpy as np\n",
    "mat = datasets.make_spd_matrix(10)\n",
    "masking_array = np.random.binomial(1, .1, mat.shape).astype(bool)\n",
    "mat[masking_array] = np.nan\n",
    "mat[:4, :4]"
   ]
  },
  {
   "cell_type": "markdown",
   "metadata": {},
   "source": [
    "## 不用Pipelines处理"
   ]
  },
  {
   "cell_type": "code",
   "execution_count": 59,
   "metadata": {
    "collapsed": true
   },
   "outputs": [],
   "source": [
    "from sklearn import preprocessing"
   ]
  },
  {
   "cell_type": "code",
   "execution_count": 60,
   "metadata": {
    "collapsed": false
   },
   "outputs": [
    {
     "data": {
      "text/plain": [
       "array([[ 0.38228385, -0.15518794,  0.13231738,  0.17836821],\n",
       "       [-0.15518794,  0.14362456, -0.47427313, -0.27101722],\n",
       "       [ 0.13231738, -0.47427313, -0.41434695,  0.70438399],\n",
       "       [ 0.17836821, -0.27101722,  0.70438399,  0.85776832]])"
      ]
     },
     "execution_count": 60,
     "metadata": {},
     "output_type": "execute_result"
    }
   ],
   "source": [
    "impute = preprocessing.Imputer()\n",
    "scaler = preprocessing.StandardScaler()\n",
    "mat_imputed = impute.fit_transform(mat)\n",
    "mat_imputed[:4, :4]"
   ]
  },
  {
   "cell_type": "code",
   "execution_count": 61,
   "metadata": {
    "collapsed": false,
    "scrolled": true
   },
   "outputs": [
    {
     "data": {
      "text/plain": [
       "array([[ 1.99481422, -0.72018411,  0.69638513,  0.40267112],\n",
       "       [-0.80357066,  0.        , -0.07633881, -0.26731097],\n",
       "       [ 0.6933461 , -1.48922856,  0.        ,  1.18690028],\n",
       "       [ 0.933113  , -0.99935051,  1.42512973,  1.4155787 ]])"
      ]
     },
     "execution_count": 61,
     "metadata": {},
     "output_type": "execute_result"
    }
   ],
   "source": [
    "mat_imp_and_scaled = scaler.fit_transform(mat_imputed)\n",
    "mat_imp_and_scaled[:4, :4]"
   ]
  },
  {
   "cell_type": "markdown",
   "metadata": {},
   "source": [
    "## 使用Pipelines处理"
   ]
  },
  {
   "cell_type": "code",
   "execution_count": 62,
   "metadata": {
    "collapsed": true
   },
   "outputs": [],
   "source": [
    "from sklearn import pipeline"
   ]
  },
  {
   "cell_type": "code",
   "execution_count": 63,
   "metadata": {
    "collapsed": false
   },
   "outputs": [
    {
     "data": {
      "text/plain": [
       "Pipeline(steps=[('impute', Imputer(axis=0, copy=True, missing_values='NaN', strategy='mean', verbose=0)), ('scaler', StandardScaler(copy=True, with_mean=True, with_std=True))])"
      ]
     },
     "execution_count": 63,
     "metadata": {},
     "output_type": "execute_result"
    }
   ],
   "source": [
    "pipe = pipeline.Pipeline([('impute', impute), ('scaler', scaler)]) # 设置pipeline，定义数据预处理的流程\n",
    "pipe # 查看数据预处理的具体流程"
   ]
  },
  {
   "cell_type": "code",
   "execution_count": 64,
   "metadata": {
    "collapsed": false
   },
   "outputs": [
    {
     "data": {
      "text/plain": [
       "array([[ 1.99481422, -0.72018411,  0.69638513,  0.40267112],\n",
       "       [-0.80357066,  0.        , -0.07633881, -0.26731097],\n",
       "       [ 0.6933461 , -1.48922856,  0.        ,  1.18690028],\n",
       "       [ 0.933113  , -0.99935051,  1.42512973,  1.4155787 ]])"
      ]
     },
     "execution_count": 64,
     "metadata": {},
     "output_type": "execute_result"
    }
   ],
   "source": [
    "new_mat = pipe.fit_transform(mat)\n",
    "new_mat [:4, :4]"
   ]
  },
  {
   "cell_type": "code",
   "execution_count": 65,
   "metadata": {
    "collapsed": false
   },
   "outputs": [
    {
     "data": {
      "text/plain": [
       "True"
      ]
     },
     "execution_count": 65,
     "metadata": {},
     "output_type": "execute_result"
    }
   ],
   "source": [
    "np.array_equal(new_mat, mat_imp_and_scaled) # 确保非pipeline方法和pipeline方法的结果一致"
   ]
  },
  {
   "cell_type": "markdown",
   "metadata": {},
   "source": [
    "## Pipelines可能会报错的地方"
   ]
  },
  {
   "cell_type": "markdown",
   "metadata": {},
   "source": [
    "1.如果Pipelines中有N个步骤，前N-1个步骤必须都有fit和transform方法，第N个步骤必须有fit方法"
   ]
  },
  {
   "cell_type": "markdown",
   "metadata": {},
   "source": [
    "2.如果Pipelines中某个步骤没有inverse_transform方法，则对Pipelines使用inverse_transform方法会报错"
   ]
  },
  {
   "cell_type": "raw",
   "metadata": {},
   "source": [
    "pipe.inverse_transform(new_mat)"
   ]
  },
  {
   "cell_type": "raw",
   "metadata": {},
   "source": [
    "---------------------------------------------------------------------------\n",
    "AttributeError                            Traceback (most recent call last)\n",
    "<ipython-input-67-62edd2667cae> in <module>()\n",
    "----> 1 pipe.inverse_transform(new_mat)\n",
    "\n",
    "C:\\Anaconda2\\lib\\site-packages\\sklearn\\utils\\metaestimators.py in <lambda>(*args, **kwargs)\n",
    "     35             self.get_attribute(obj)\n",
    "     36         # lambda, but not partial, allows help() to work with update_wrapper\n",
    "---> 37         out = lambda *args, **kwargs: self.fn(obj, *args, **kwargs)\n",
    "     38         # update the docstring of the returned function\n",
    "     39         update_wrapper(out, self.fn)\n",
    "\n",
    "C:\\Anaconda2\\lib\\site-packages\\sklearn\\pipeline.py in inverse_transform(self, X)\n",
    "    311         Xt = X\n",
    "    312         for name, step in self.steps[::-1]:\n",
    "--> 313             Xt = step.inverse_transform(Xt)\n",
    "    314         return Xt\n",
    "    315 \n",
    "\n",
    "AttributeError: 'Imputer' object has no attribute 'inverse_transform'"
   ]
  },
  {
   "cell_type": "code",
   "execution_count": 66,
   "metadata": {
    "collapsed": false
   },
   "outputs": [
    {
     "data": {
      "text/plain": [
       "array([[ 0.38228385, -0.15518794,  0.13231738,  0.17836821],\n",
       "       [-0.15518794,  0.14362456, -0.47427313, -0.27101722],\n",
       "       [ 0.13231738, -0.47427313, -0.41434695,  0.70438399],\n",
       "       [ 0.17836821, -0.27101722,  0.70438399,  0.85776832]])"
      ]
     },
     "execution_count": 66,
     "metadata": {},
     "output_type": "execute_result"
    }
   ],
   "source": [
    "scaler.inverse_transform(new_mat) [:4, :4] # 单独的标准化步骤是有inverse_transform方法的"
   ]
  },
  {
   "cell_type": "markdown",
   "metadata": {},
   "source": [
    "## 使用Pipelines的好处"
   ]
  },
  {
   "cell_type": "markdown",
   "metadata": {},
   "source": [
    "1.代码更加整洁，不需要一遍又一遍的使用fit、transform方法"
   ]
  },
  {
   "cell_type": "markdown",
   "metadata": {},
   "source": [
    "2.易于交叉验证  \n",
    "多步骤的数据预处理过程，每个步骤都可能需要用交叉验证进行参数调优，使用Pipelines对数据预处理过程进行参数调优，代码量会小得多"
   ]
  },
  {
   "cell_type": "raw",
   "metadata": {},
   "source": []
  },
  {
   "cell_type": "markdown",
   "metadata": {},
   "source": [
    "# PCA降维\n",
    "PCA类"
   ]
  },
  {
   "cell_type": "code",
   "execution_count": 67,
   "metadata": {
    "collapsed": true
   },
   "outputs": [],
   "source": [
    "from sklearn import decomposition"
   ]
  },
  {
   "cell_type": "code",
   "execution_count": 68,
   "metadata": {
    "collapsed": true
   },
   "outputs": [],
   "source": [
    "# 准备数据集\n",
    "from sklearn import datasets\n",
    "iris = datasets.load_iris()\n",
    "iris_X = iris.data"
   ]
  },
  {
   "cell_type": "markdown",
   "metadata": {},
   "source": [
    "## 不降维"
   ]
  },
  {
   "cell_type": "code",
   "execution_count": 69,
   "metadata": {
    "collapsed": false
   },
   "outputs": [
    {
     "data": {
      "text/plain": [
       "PCA(copy=True, n_components=None, whiten=False)"
      ]
     },
     "execution_count": 69,
     "metadata": {},
     "output_type": "execute_result"
    }
   ],
   "source": [
    "pca = decomposition.PCA() # 默认设置下不降维，生成的主成分个数与原特征数相同\n",
    "pca"
   ]
  },
  {
   "cell_type": "code",
   "execution_count": 70,
   "metadata": {
    "collapsed": false,
    "scrolled": true
   },
   "outputs": [
    {
     "data": {
      "text/plain": [
       "array([[ -2.68420713e+00,  -3.26607315e-01,   2.15118370e-02,\n",
       "          1.00615724e-03],\n",
       "       [ -2.71539062e+00,   1.69556848e-01,   2.03521425e-01,\n",
       "          9.96024240e-02],\n",
       "       [ -2.88981954e+00,   1.37345610e-01,  -2.47092410e-02,\n",
       "          1.93045428e-02],\n",
       "       [ -2.74643720e+00,   3.11124316e-01,  -3.76719753e-02,\n",
       "         -7.59552741e-02],\n",
       "       [ -2.72859298e+00,  -3.33924564e-01,  -9.62296998e-02,\n",
       "         -6.31287327e-02]])"
      ]
     },
     "execution_count": 70,
     "metadata": {},
     "output_type": "execute_result"
    }
   ],
   "source": [
    "iris_pca = pca.fit_transform(iris_X)\n",
    "iris_pca[:5] # 每个样本有4个主成分，与原特征数相同，不降维"
   ]
  },
  {
   "cell_type": "code",
   "execution_count": 71,
   "metadata": {
    "collapsed": false
   },
   "outputs": [
    {
     "data": {
      "text/plain": [
       "1.0"
      ]
     },
     "execution_count": 71,
     "metadata": {},
     "output_type": "execute_result"
    }
   ],
   "source": [
    "pca.explained_variance_ratio_.sum() # 所有的主成分加总，包含了原数据全部的信息"
   ]
  },
  {
   "cell_type": "code",
   "execution_count": 72,
   "metadata": {
    "collapsed": false
   },
   "outputs": [
    {
     "data": {
      "text/plain": [
       "array([ 0.92461621,  0.05301557,  0.01718514,  0.00518309])"
      ]
     },
     "execution_count": 72,
     "metadata": {},
     "output_type": "execute_result"
    }
   ],
   "source": [
    "pca.explained_variance_ratio_ # 第一到第四主成分解释原数据信息的比例"
   ]
  },
  {
   "cell_type": "markdown",
   "metadata": {},
   "source": [
    "## 指定主成分个数"
   ]
  },
  {
   "cell_type": "code",
   "execution_count": 73,
   "metadata": {
    "collapsed": false
   },
   "outputs": [
    {
     "data": {
      "text/plain": [
       "(150L, 2L)"
      ]
     },
     "execution_count": 73,
     "metadata": {},
     "output_type": "execute_result"
    }
   ],
   "source": [
    "pca = decomposition.PCA(n_components=2) # 设置n_components参数进行降维，返回第一、第二主成分\n",
    "iris_X_prime = pca.fit_transform(iris_X)\n",
    "iris_X_prime.shape # 返回第一、第二主成分"
   ]
  },
  {
   "cell_type": "code",
   "execution_count": 74,
   "metadata": {
    "collapsed": false
   },
   "outputs": [
    {
     "data": {
      "text/plain": [
       "0.97763177502480336"
      ]
     },
     "execution_count": 74,
     "metadata": {},
     "output_type": "execute_result"
    }
   ],
   "source": [
    "pca.explained_variance_ratio_.sum() # 降维后的第一、第二主成分包含了97.76%的原数据集信息"
   ]
  },
  {
   "cell_type": "code",
   "execution_count": 75,
   "metadata": {
    "collapsed": false
   },
   "outputs": [
    {
     "data": {
      "image/png": "[encoded data removed]",
      "text/plain": [
       "<matplotlib.figure.Figure at 0xba748d0>"
      ]
     },
     "metadata": {},
     "output_type": "display_data"
    }
   ],
   "source": [
    "for i in xrange(50):\n",
    "    plt.scatter(iris_X_prime[i][0], iris_X_prime[i][1], color='blue')\n",
    "for i in xrange(50, 100):\n",
    "    plt.scatter(iris_X_prime[i][0], iris_X_prime[i][1], color='green')\n",
    "for i in xrange(100, 150):\n",
    "    plt.scatter(iris_X_prime[i][0], iris_X_prime[i][1], color='red')\n",
    "plt.show() # 降维后，iris数据集仍能够被分为3类"
   ]
  },
  {
   "cell_type": "markdown",
   "metadata": {},
   "source": [
    "## 指定包含信息比例"
   ]
  },
  {
   "cell_type": "code",
   "execution_count": 76,
   "metadata": {
    "collapsed": false
   },
   "outputs": [
    {
     "data": {
      "text/plain": [
       "0.99481691454981014"
      ]
     },
     "execution_count": 76,
     "metadata": {},
     "output_type": "execute_result"
    }
   ],
   "source": [
    "pca = decomposition.PCA(n_components=.98) # 指定降维后包含的信息不得少于元数据集的98%\n",
    "iris_X_prime = pca.fit(iris_X)\n",
    "pca.explained_variance_ratio_.sum() # 降维到3维，包含了99.48%的原数据集的信息"
   ]
  },
  {
   "cell_type": "raw",
   "metadata": {},
   "source": []
  },
  {
   "cell_type": "markdown",
   "metadata": {
    "collapsed": true
   },
   "source": [
    "# 因子分析降维\n",
    "FactorAnalysis类"
   ]
  },
  {
   "cell_type": "code",
   "execution_count": 77,
   "metadata": {
    "collapsed": true
   },
   "outputs": [],
   "source": [
    "from sklearn.decomposition import FactorAnalysis"
   ]
  },
  {
   "cell_type": "code",
   "execution_count": 78,
   "metadata": {
    "collapsed": false
   },
   "outputs": [
    {
     "data": {
      "text/plain": [
       "array([[-1.33125848, -0.55846779],\n",
       "       [-1.33914102,  0.00509715],\n",
       "       [-1.40258715,  0.307983  ],\n",
       "       [-1.29839497,  0.71854288],\n",
       "       [-1.33587575, -0.36533259]])"
      ]
     },
     "execution_count": 78,
     "metadata": {},
     "output_type": "execute_result"
    }
   ],
   "source": [
    "fa = FactorAnalysis(n_components=2) # 设置提取两个因子\n",
    "iris_two_dim = fa.fit_transform(iris.data) # 因子分析的使用方法与PCA基本相同\n",
    "iris_two_dim[:5]"
   ]
  },
  {
   "cell_type": "code",
   "execution_count": 79,
   "metadata": {
    "collapsed": false
   },
   "outputs": [
    {
     "data": {
      "text/plain": [
       "0"
      ]
     },
     "execution_count": 79,
     "metadata": {},
     "output_type": "execute_result"
    }
   ],
   "source": [
    "iris.target[49]"
   ]
  },
  {
   "cell_type": "code",
   "execution_count": 80,
   "metadata": {
    "collapsed": false
   },
   "outputs": [
    {
     "data": {
      "image/png": "[encoded data removed]",
      "text/plain": [
       "<matplotlib.figure.Figure at 0xc1633c8>"
      ]
     },
     "metadata": {},
     "output_type": "display_data"
    }
   ],
   "source": [
    "for i in xrange(50):\n",
    "    plt.scatter(iris_two_dim[i][0], iris_two_dim[i][1], color='blue')\n",
    "for i in xrange(50, 100):\n",
    "    plt.scatter(iris_two_dim[i][0], iris_two_dim[i][1], color='green')\n",
    "for i in xrange(100, 150):\n",
    "    plt.scatter(iris_two_dim[i][0], iris_two_dim[i][1], color='red')\n",
    "plt.show() # 降维后，iris数据集仍能够被分为3类"
   ]
  },
  {
   "cell_type": "raw",
   "metadata": {},
   "source": []
  },
  {
   "cell_type": "markdown",
   "metadata": {},
   "source": [
    "# 核PCA非线性降维\n",
    "KernelPCA类  \n",
    "有5种核：poly (polynomial)、rbf (radial basis function)、sigmoid、cosine、precomputed"
   ]
  },
  {
   "cell_type": "code",
   "execution_count": 81,
   "metadata": {
    "collapsed": true
   },
   "outputs": [],
   "source": [
    "from sklearn import decomposition"
   ]
  },
  {
   "cell_type": "code",
   "execution_count": 82,
   "metadata": {
    "collapsed": false
   },
   "outputs": [],
   "source": [
    "# 假设有A和B两个数据生成过程，生成数据集\n",
    "import numpy as np\n",
    "A1_mean = [1, 1]\n",
    "A1_cov = [[2, .99], [1, 1]]\n",
    "A1 = np.random.multivariate_normal(A1_mean, A1_cov, 50)\n",
    "A2_mean = [5, 5]\n",
    "A2_cov = [[2, .99], [1, 1]]\n",
    "A2 = np.random.multivariate_normal(A2_mean, A2_cov, 50)\n",
    "A = np.vstack((A1, A2))\n",
    "B_mean = [5, 0]\n",
    "B_cov = [[.5, -.1], [-.9, .5]]\n",
    "B = np.random.multivariate_normal(B_mean, B_cov, 100)"
   ]
  },
  {
   "cell_type": "code",
   "execution_count": 83,
   "metadata": {
    "collapsed": false
   },
   "outputs": [
    {
     "data": {
      "image/png": "[encoded data removed]",
      "text/plain": [
       "<matplotlib.figure.Figure at 0xba61e80>"
      ]
     },
     "metadata": {},
     "output_type": "display_data"
    }
   ],
   "source": [
    "# A和B难以线性分离\n",
    "for i in xrange(A.shape[0]):\n",
    "    plt.scatter(A[i][0], A[i][1], color='red')\n",
    "for i in xrange(B.shape[0]):\n",
    "    plt.scatter(B[i][0], B[i][1], color='blue')\n",
    "plt.show()"
   ]
  },
  {
   "cell_type": "code",
   "execution_count": 84,
   "metadata": {
    "collapsed": true
   },
   "outputs": [],
   "source": [
    "kpca = decomposition.KernelPCA(kernel='cosine', n_components=1) # 选取cosine核进行PCA降维\n",
    "AB = np.vstack((A, B))\n",
    "AB_transformed = kpca.fit_transform(AB)"
   ]
  },
  {
   "cell_type": "code",
   "execution_count": 85,
   "metadata": {
    "collapsed": false
   },
   "outputs": [
    {
     "data": {
      "image/png": "[encoded data removed]",
      "text/plain": [
       "<matplotlib.figure.Figure at 0xba61be0>"
      ]
     },
     "metadata": {},
     "output_type": "display_data"
    }
   ],
   "source": [
    "for i in xrange(100):\n",
    "    plt.scatter(AB_transformed[i], 0, color='red')\n",
    "for i in xrange(100, 200):\n",
    "    plt.scatter(AB_transformed[i], 0, color='blue')\n",
    "plt.show() # 降维后，基本上线性可分"
   ]
  },
  {
   "cell_type": "code",
   "execution_count": 86,
   "metadata": {
    "collapsed": true
   },
   "outputs": [],
   "source": [
    "pca = decomposition.PCA(n_components=1) # 进行普通PCA降维，以比较效果\n",
    "AB = np.vstack((A, B))\n",
    "AB_transformed = pca.fit_transform(AB)"
   ]
  },
  {
   "cell_type": "code",
   "execution_count": 87,
   "metadata": {
    "collapsed": false
   },
   "outputs": [
    {
     "data": {
      "image/png": "[encoded data removed]",
      "text/plain": [
       "<matplotlib.figure.Figure at 0xcbef5c0>"
      ]
     },
     "metadata": {},
     "output_type": "display_data"
    }
   ],
   "source": [
    "for i in xrange(100):\n",
    "    plt.scatter(AB_transformed[i], 0, color='red')\n",
    "for i in xrange(100, 200):\n",
    "    plt.scatter(AB_transformed[i], 0, color='blue')\n",
    "plt.show() # 线性不可分，效果比核PCA差"
   ]
  },
  {
   "cell_type": "raw",
   "metadata": {},
   "source": []
  },
  {
   "cell_type": "markdown",
   "metadata": {},
   "source": [
    "# 截尾SVD降维\n",
    "TruncatedSVD类  \n",
    "截尾SVD可以应用于稀疏矩阵，而PCA则不行"
   ]
  },
  {
   "cell_type": "code",
   "execution_count": 88,
   "metadata": {
    "collapsed": true
   },
   "outputs": [],
   "source": [
    "from sklearn.decomposition import TruncatedSVD"
   ]
  },
  {
   "cell_type": "code",
   "execution_count": 89,
   "metadata": {
    "collapsed": true
   },
   "outputs": [],
   "source": [
    "# 生成数据集\n",
    "from sklearn.datasets import load_iris\n",
    "iris = load_iris()\n",
    "iris_data = iris.data\n",
    "iris_target = iris.target"
   ]
  },
  {
   "cell_type": "code",
   "execution_count": 90,
   "metadata": {
    "collapsed": false
   },
   "outputs": [
    {
     "data": {
      "text/plain": [
       "array([[ 5.91220352,  2.3034421 ],\n",
       "       [ 5.57207573,  1.97383103],\n",
       "       [ 5.4464847 ,  2.09653267],\n",
       "       [ 5.43601924,  1.87168085],\n",
       "       [ 5.87506555,  2.32934798]])"
      ]
     },
     "execution_count": 90,
     "metadata": {},
     "output_type": "execute_result"
    }
   ],
   "source": [
    "svd = TruncatedSVD(2)\n",
    "iris_transformed = svd.fit_transform(iris_data)\n",
    "iris_transformed[:5]"
   ]
  },
  {
   "cell_type": "code",
   "execution_count": 91,
   "metadata": {
    "collapsed": false
   },
   "outputs": [
    {
     "data": {
      "image/png": "[encoded data removed]",
      "text/plain": [
       "<matplotlib.figure.Figure at 0xc512e48>"
      ]
     },
     "metadata": {},
     "output_type": "display_data"
    }
   ],
   "source": [
    "for i in xrange(50):\n",
    "    plt.scatter(iris_transformed[i][0], iris_transformed[i][1], color='blue')\n",
    "for i in xrange(50, 100):\n",
    "    plt.scatter(iris_transformed[i][0], iris_transformed[i][1], color='green')\n",
    "for i in xrange(100, 150):\n",
    "    plt.scatter(iris_transformed[i][0], iris_transformed[i][1], color='red')\n",
    "plt.show() # 降维后，iris数据集仍能够被分为3类"
   ]
  },
  {
   "cell_type": "markdown",
   "metadata": {},
   "source": [
    "## SVD"
   ]
  },
  {
   "cell_type": "code",
   "execution_count": 92,
   "metadata": {
    "collapsed": false
   },
   "outputs": [
    {
     "data": {
      "text/plain": [
       "array([[1, 2],\n",
       "       [1, 3],\n",
       "       [1, 4]])"
      ]
     },
     "execution_count": 92,
     "metadata": {},
     "output_type": "execute_result"
    }
   ],
   "source": [
    "from scipy.linalg import svd\n",
    "D = np.array([[1, 2], [1, 3], [1, 4]])\n",
    "D"
   ]
  },
  {
   "cell_type": "code",
   "execution_count": 93,
   "metadata": {
    "collapsed": false
   },
   "outputs": [
    {
     "data": {
      "text/plain": [
       "((3L, 2L), (2L,), (2L, 2L))"
      ]
     },
     "execution_count": 93,
     "metadata": {},
     "output_type": "execute_result"
    }
   ],
   "source": [
    "U, S, V = svd(D, full_matrices=False)\n",
    "U.shape, S.shape, V.shape"
   ]
  },
  {
   "cell_type": "code",
   "execution_count": 94,
   "metadata": {
    "collapsed": false
   },
   "outputs": [
    {
     "data": {
      "text/plain": [
       "array([[ 1.,  2.],\n",
       "       [ 1.,  3.],\n",
       "       [ 1.,  4.]])"
      ]
     },
     "execution_count": 94,
     "metadata": {},
     "output_type": "execute_result"
    }
   ],
   "source": [
    "np.dot(U.dot(np.diag(S)), V)"
   ]
  },
  {
   "cell_type": "markdown",
   "metadata": {},
   "source": [
    "## 截尾SVD"
   ]
  },
  {
   "cell_type": "code",
   "execution_count": 95,
   "metadata": {
    "collapsed": false
   },
   "outputs": [
    {
     "data": {
      "text/plain": [
       "array([-2.20719466, -3.16170819, -4.11622173])"
      ]
     },
     "execution_count": 95,
     "metadata": {},
     "output_type": "execute_result"
    }
   ],
   "source": [
    "new_S = S[0] # 如果想要进行截尾SVD降维，去掉最小的若干个特征值，并去掉U矩阵的对应列；保留t维，则去掉N-t个特征值\n",
    "new_U = U[:, 0]\n",
    "new_U.dot(new_S)"
   ]
  },
  {
   "cell_type": "markdown",
   "metadata": {},
   "source": [
    "## 符号问题\n",
    "每次进行截尾SVD，可能返回结果的符号不同。所以，为了保持结果的一致性，应当一次性fit TruncatedSVD类，然后使用transform方法进行降维。"
   ]
  },
  {
   "cell_type": "code",
   "execution_count": 96,
   "metadata": {
    "collapsed": false,
    "scrolled": false
   },
   "outputs": [
    {
     "data": {
      "text/plain": [
       "array([[ 5.91220352,  2.30344211],\n",
       "       [ 5.57207573,  1.97383104],\n",
       "       [ 5.4464847 ,  2.09653267],\n",
       "       [ 5.43601924,  1.87168085],\n",
       "       [ 5.87506555,  2.32934799]])"
      ]
     },
     "execution_count": 96,
     "metadata": {},
     "output_type": "execute_result"
    }
   ],
   "source": [
    "tsvd = TruncatedSVD(2)\n",
    "tsvd.fit(iris_data) # 一次性fit TruncatedSVD类\n",
    "tsvd.transform(iris_data)[:5] # 之后用transform降维"
   ]
  },
  {
   "cell_type": "raw",
   "metadata": {
    "collapsed": true
   },
   "source": []
  },
  {
   "cell_type": "markdown",
   "metadata": {
    "collapsed": true
   },
   "source": [
    "# 字典学习\n",
    "DictionaryLearning类"
   ]
  },
  {
   "cell_type": "markdown",
   "metadata": {},
   "source": [
    "+ 简要介绍字典学习  \n",
    "DictionaryLearning has a background in signal processing and neurology. The idea is that only few features can be active at any given time. Therefore, DictionaryLearning attempts to find a suitable representation for the underlying data, given the constraint that most of the features should be 0."
   ]
  },
  {
   "cell_type": "code",
   "execution_count": 97,
   "metadata": {
    "collapsed": true
   },
   "outputs": [],
   "source": [
    "from sklearn.decomposition import DictionaryLearning"
   ]
  },
  {
   "cell_type": "code",
   "execution_count": 98,
   "metadata": {
    "collapsed": true
   },
   "outputs": [],
   "source": [
    "# 准备数据集\n",
    "from sklearn.datasets import load_iris\n",
    "iris = load_iris()"
   ]
  },
  {
   "cell_type": "code",
   "execution_count": 99,
   "metadata": {
    "collapsed": true
   },
   "outputs": [],
   "source": [
    "dl = DictionaryLearning(n_components=3) # use three components to represent the three species of iris"
   ]
  },
  {
   "cell_type": "code",
   "execution_count": 100,
   "metadata": {
    "collapsed": false
   },
   "outputs": [
    {
     "data": {
      "text/plain": [
       "array([[ 0.        ,  6.34476574,  0.        ],\n",
       "       [ 0.        ,  5.83576461,  0.        ],\n",
       "       [ 0.        ,  6.32038375,  0.        ],\n",
       "       [ 0.        ,  5.89318572,  0.        ],\n",
       "       [ 0.        ,  5.45222715,  0.        ]])"
      ]
     },
     "execution_count": 100,
     "metadata": {},
     "output_type": "execute_result"
    }
   ],
   "source": [
    "transformed = dl.fit_transform(iris_data[::2]) # 将一半数据集作为训练集，另一半数据集作为测试集\n",
    "transformed[:5]"
   ]
  },
  {
   "cell_type": "code",
   "execution_count": 101,
   "metadata": {
    "collapsed": false
   },
   "outputs": [
    {
     "data": {
      "image/png": "[encoded data removed]",
      "text/plain": [
       "<matplotlib.figure.Figure at 0xc512908>"
      ]
     },
     "metadata": {},
     "output_type": "display_data"
    }
   ],
   "source": [
    "from mpl_toolkits.mplot3d import Axes3D\n",
    "colors = np.array(['red', 'green', 'blue'])\n",
    "f = plt.figure()\n",
    "ax = f.add_subplot(111, projection='3d')\n",
    "ax.set_title(\"Training Set\")\n",
    "ax.scatter(transformed[:, 0], transformed[:, 1], transformed[:, 2], color=colors[iris.target[::2]]); # 训练集被分为3类，有少许错分"
   ]
  },
  {
   "cell_type": "code",
   "execution_count": 102,
   "metadata": {
    "collapsed": true
   },
   "outputs": [],
   "source": [
    "transformed = dl.transform(iris_data[1::2]) # 在测试集上测试分类效果"
   ]
  },
  {
   "cell_type": "code",
   "execution_count": 103,
   "metadata": {
    "collapsed": false
   },
   "outputs": [
    {
     "data": {
      "image/png": "[encoded data removed]",
      "text/plain": [
       "<matplotlib.figure.Figure at 0xa26cc18>"
      ]
     },
     "metadata": {},
     "output_type": "display_data"
    }
   ],
   "source": [
    "from mpl_toolkits.mplot3d import Axes3D\n",
    "colors = np.array(list('rgb'))\n",
    "f = plt.figure()\n",
    "ax = f.add_subplot(111, projection='3d')\n",
    "ax.set_title(\"Testing Set\")\n",
    "ax.scatter(transformed[:, 0], transformed[:, 1], transformed[:, 2], color=colors[iris.target[1::2]]); # 测试集依然被分为3类，有少许错分"
   ]
  },
  {
   "cell_type": "raw",
   "metadata": {},
   "source": []
  },
  {
   "cell_type": "markdown",
   "metadata": {},
   "source": [
    "# 高阶Pipelines\n",
    "Pipeline类"
   ]
  },
  {
   "cell_type": "code",
   "execution_count": 104,
   "metadata": {
    "collapsed": true
   },
   "outputs": [],
   "source": [
    "from sklearn import pipeline, preprocessing, decomposition"
   ]
  },
  {
   "cell_type": "code",
   "execution_count": 105,
   "metadata": {
    "collapsed": false
   },
   "outputs": [
    {
     "data": {
      "text/plain": [
       "array([[ 5.1,  nan,  1.4,  nan],\n",
       "       [ nan,  nan,  1.4,  nan],\n",
       "       [ 4.7,  nan,  1.3,  0.2],\n",
       "       [ 4.6,  nan,  1.5,  nan],\n",
       "       [ nan,  3.6,  1.4,  nan]])"
      ]
     },
     "execution_count": 105,
     "metadata": {},
     "output_type": "execute_result"
    }
   ],
   "source": [
    "# 准备包含缺失值的数据集\n",
    "from sklearn.datasets import load_iris\n",
    "import numpy as np\n",
    "iris = load_iris()\n",
    "iris_data = iris.data\n",
    "mask = np.random.binomial(1, .25, iris_data.shape).astype(bool)\n",
    "iris_data[mask] = np.nan\n",
    "iris_data[:5]"
   ]
  },
  {
   "cell_type": "code",
   "execution_count": 106,
   "metadata": {
    "collapsed": true
   },
   "outputs": [],
   "source": [
    "# 创建PCA类和Imputer类\n",
    "pca = decomposition.PCA()\n",
    "imputer = preprocessing.Imputer()"
   ]
  },
  {
   "cell_type": "code",
   "execution_count": 107,
   "metadata": {
    "collapsed": false
   },
   "outputs": [
    {
     "data": {
      "text/plain": [
       "array([[-2.29294916,  0.29671712,  0.74487466, -0.09555671],\n",
       "       [-2.06224229,  0.89517151,  0.49607299,  0.20866014],\n",
       "       [-2.8377082 , -0.36771376,  0.06987381,  0.08354229],\n",
       "       [-2.35709118, -0.1398031 ,  0.88879506, -0.30679784],\n",
       "       [-2.10098834,  1.04468561,  0.25833783, -0.25051   ]])"
      ]
     },
     "execution_count": 107,
     "metadata": {},
     "output_type": "execute_result"
    }
   ],
   "source": [
    "# 将PCA类和Imputer类载入到Pipeline类中\n",
    "pipe = pipeline.Pipeline([('imputer', imputer), ('pca', pca)]) # 元组的列表，元组的第一个元素是步骤名称，第二个元素是步骤引用的对象\n",
    "iris_data_transformed = pipe.fit_transform(iris_data)\n",
    "iris_data_transformed[:5]"
   ]
  },
  {
   "cell_type": "markdown",
   "metadata": {},
   "source": [
    "## make_pipeline方法"
   ]
  },
  {
   "cell_type": "code",
   "execution_count": 108,
   "metadata": {
    "collapsed": false
   },
   "outputs": [
    {
     "data": {
      "text/plain": [
       "[('imputer',\n",
       "  Imputer(axis=0, copy=True, missing_values='NaN', strategy='mean', verbose=0)),\n",
       " ('pca', PCA(copy=True, n_components=None, whiten=False))]"
      ]
     },
     "execution_count": 108,
     "metadata": {},
     "output_type": "execute_result"
    }
   ],
   "source": [
    "pipe2 = pipeline.make_pipeline(imputer, pca)\n",
    "pipe2.steps"
   ]
  },
  {
   "cell_type": "code",
   "execution_count": 109,
   "metadata": {
    "collapsed": false
   },
   "outputs": [
    {
     "data": {
      "text/plain": [
       "array([[-2.29294916,  0.29671712,  0.74487466, -0.09555671],\n",
       "       [-2.06224229,  0.89517151,  0.49607299,  0.20866014],\n",
       "       [-2.8377082 , -0.36771376,  0.06987381,  0.08354229],\n",
       "       [-2.35709118, -0.1398031 ,  0.88879506, -0.30679784],\n",
       "       [-2.10098834,  1.04468561,  0.25833783, -0.25051   ]])"
      ]
     },
     "execution_count": 109,
     "metadata": {},
     "output_type": "execute_result"
    }
   ],
   "source": [
    "iris_data_transformed2 = pipe2.fit_transform(iris_data)\n",
    "iris_data_transformed2[:5]"
   ]
  },
  {
   "cell_type": "markdown",
   "metadata": {},
   "source": [
    "## 修改某一步骤的参数"
   ]
  },
  {
   "cell_type": "code",
   "execution_count": 110,
   "metadata": {
    "collapsed": false
   },
   "outputs": [
    {
     "data": {
      "text/plain": [
       "Pipeline(steps=[('imputer', Imputer(axis=0, copy=True, missing_values='NaN', strategy='mean', verbose=0)), ('pca', PCA(copy=True, n_components=2, whiten=False))])"
      ]
     },
     "execution_count": 110,
     "metadata": {},
     "output_type": "execute_result"
    }
   ],
   "source": [
    "pipe2.set_params(pca__n_components=2) # 可以用set_params方法修改某一步骤的参数，参数形式为<parameter's_name>__<parameter's_parameter>（两个下划线！！！）"
   ]
  },
  {
   "cell_type": "code",
   "execution_count": 111,
   "metadata": {
    "collapsed": false
   },
   "outputs": [
    {
     "data": {
      "text/plain": [
       "array([[-2.29294916,  0.29671712],\n",
       "       [-2.06224229,  0.89517151],\n",
       "       [-2.8377082 , -0.36771376],\n",
       "       [-2.35709118, -0.1398031 ],\n",
       "       [-2.10098834,  1.04468561]])"
      ]
     },
     "execution_count": 111,
     "metadata": {},
     "output_type": "execute_result"
    }
   ],
   "source": [
    "iris_data_transformed3 = pipe2.fit_transform(iris_data)\n",
    "iris_data_transformed3[:5] # 起到了降维的作用"
   ]
  },
  {
   "cell_type": "raw",
   "metadata": {},
   "source": []
  },
  {
   "cell_type": "markdown",
   "metadata": {},
   "source": [
    "# 用高斯过程进行回归\n",
    "GaussianProcess类"
   ]
  },
  {
   "cell_type": "code",
   "execution_count": 112,
   "metadata": {
    "collapsed": true
   },
   "outputs": [],
   "source": [
    "from sklearn.gaussian_process import GaussianProcess"
   ]
  },
  {
   "cell_type": "code",
   "execution_count": 113,
   "metadata": {
    "collapsed": true
   },
   "outputs": [],
   "source": [
    "# 准备数据集\n",
    "from sklearn.datasets import load_boston\n",
    "boston = load_boston()\n",
    "boston_X = boston.data\n",
    "boston_y = boston.target\n",
    "train_set = np.random.choice([True, False], len(boston_y), p=[.75, .25]) # 取75%的数据为训练集"
   ]
  },
  {
   "cell_type": "code",
   "execution_count": 114,
   "metadata": {
    "collapsed": false
   },
   "outputs": [
    {
     "data": {
      "text/plain": [
       "GaussianProcess(beta0=None,\n",
       "        corr=<function squared_exponential at 0x000000000C305278>,\n",
       "        normalize=True, nugget=array(2.220446049250313e-15),\n",
       "        optimizer='fmin_cobyla', random_start=1,\n",
       "        random_state=<mtrand.RandomState object at 0x000000000449ECF8>,\n",
       "        regr=<function constant at 0x000000000C305DD8>,\n",
       "        storage_mode='full', theta0=array([[ 0.1]]), thetaL=None,\n",
       "        thetaU=None, verbose=False)"
      ]
     },
     "execution_count": 114,
     "metadata": {},
     "output_type": "execute_result"
    }
   ],
   "source": [
    "gp = GaussianProcess()\n",
    "gp.fit(boston_X[train_set], boston_y[train_set]) # 训练模型"
   ]
  },
  {
   "cell_type": "code",
   "execution_count": 115,
   "metadata": {
    "collapsed": true
   },
   "outputs": [],
   "source": [
    "test_preds = gp.predict(boston_X[~train_set]) # 在测试集上测试模型效果"
   ]
  },
  {
   "cell_type": "code",
   "execution_count": 116,
   "metadata": {
    "collapsed": false
   },
   "outputs": [
    {
     "data": {
      "image/png": "[encoded data removed]",
      "text/plain": [
       "<matplotlib.figure.Figure at 0xbffc320>"
      ]
     },
     "metadata": {},
     "output_type": "display_data"
    }
   ],
   "source": [
    "from matplotlib import pyplot as plt\n",
    "f, ax = plt.subplots(figsize=(10, 7), nrows=3)\n",
    "f.tight_layout()\n",
    "\n",
    "ax[0].plot(range(len(test_preds)), test_preds, label='Predicted Values'); # 真实值与预测值的对比\n",
    "ax[0].plot(range(len(test_preds)), boston_y[~train_set], label='Actual Values');\n",
    "ax[0].set_title(\"Predicted vs Actuals\")\n",
    "ax[0].legend(loc='best')\n",
    "\n",
    "ax[1].plot(range(len(test_preds)), test_preds - boston_y[~train_set]); # 残差图\n",
    "ax[1].set_title(\"Plotted Residuals\")\n",
    "\n",
    "ax[2].hist(test_preds - boston_y[~train_set]); # 残差的分布直方图\n",
    "ax[2].set_title(\"Histogram of Residuals\");"
   ]
  },
  {
   "cell_type": "markdown",
   "metadata": {},
   "source": [
    "## 参数"
   ]
  },
  {
   "cell_type": "markdown",
   "metadata": {},
   "source": [
    "+ beta0: This is the regression weight. This defaults in a way such that MLE is used for estimation.\n",
    "+ theta0: This represents the starting point in the estimation of the the parameters.\n",
    "+ corr: This is the correlation function. There are several built-in correlation functions.\n",
    "    + absolute_exponential\n",
    "    + squared_exponential\n",
    "    + generalized_exponential\n",
    "    + cubic\n",
    "    + linear\n",
    "+ regr: This is the constant regression function.\n",
    "+ nugget: This is the regularization parameter. It defaults to a very small number. You can either pass one value to be used for each data point or a single value that needs to be applied uniformly.\n",
    "+ normalize: This defaults to True, and it will center and scale the features. This would be scale is R."
   ]
  },
  {
   "cell_type": "code",
   "execution_count": 117,
   "metadata": {
    "collapsed": true
   },
   "outputs": [],
   "source": [
    "gp = GaussianProcess(regr='linear', theta0=5e-1) # 尝试不同的regr和theta0参数\n",
    "gp.fit(boston_X[train_set], boston_y[train_set]);\n",
    "linear_preds = gp.predict(boston_X[~train_set])"
   ]
  },
  {
   "cell_type": "code",
   "execution_count": 118,
   "metadata": {
    "collapsed": false
   },
   "outputs": [
    {
     "data": {
      "image/png": "[encoded data removed]",
      "text/plain": [
       "<matplotlib.figure.Figure at 0xc30b278>"
      ]
     },
     "metadata": {},
     "output_type": "display_data"
    }
   ],
   "source": [
    "f, ax = plt.subplots(figsize=(7, 5))\n",
    "f.tight_layout()\n",
    "ax.hist(test_preds - boston_y[~train_set], label='Residuals Original', color='b', alpha=.5);\n",
    "ax.hist(linear_preds - boston_y[~train_set], label='Residuals Linear', color='r', alpha=.5);\n",
    "ax.set_title(\"Residuals\")\n",
    "ax.legend(loc='best');"
   ]
  },
  {
   "cell_type": "markdown",
   "metadata": {},
   "source": [
    "## 均方误差MSE"
   ]
  },
  {
   "cell_type": "code",
   "execution_count": 119,
   "metadata": {
    "collapsed": false
   },
   "outputs": [
    {
     "data": {
      "text/plain": [
       "(22.564194185531253, 16.246306016623915)"
      ]
     },
     "execution_count": 119,
     "metadata": {},
     "output_type": "execute_result"
    }
   ],
   "source": [
    "np.power(test_preds - boston_y[~train_set], 2).mean(), np.power(linear_preds - boston_y[~train_set], 2).mean() # 比较两个模型的MSE"
   ]
  },
  {
   "cell_type": "code",
   "execution_count": 120,
   "metadata": {
    "collapsed": false
   },
   "outputs": [
    {
     "data": {
      "text/plain": [
       "(array([ 30.03474092,  15.07139306,  11.02165615,  15.5991635 ,  19.6376047 ]),\n",
       " 11.379659332797932)"
      ]
     },
     "execution_count": 120,
     "metadata": {},
     "output_type": "execute_result"
    }
   ],
   "source": [
    "test_preds, MSE = gp.predict(boston_X[~train_set], eval_MSE=True) # 在predict方法中设置eval_MSE参数为True，可以同时返回测试值、测试集上的MSE\n",
    "MSE[:5], MSE.mean()"
   ]
  },
  {
   "cell_type": "code",
   "execution_count": 121,
   "metadata": {
    "collapsed": false
   },
   "outputs": [
    {
     "data": {
      "image/png": "[encoded data removed]",
      "text/plain": [
       "<matplotlib.figure.Figure at 0xcf366a0>"
      ]
     },
     "metadata": {},
     "output_type": "display_data"
    }
   ],
   "source": [
    "# 绘制预测值及置信区间（误差条）\n",
    "f, ax = plt.subplots(figsize=(7, 5))\n",
    "rng = range(len(MSE))\n",
    "ax.scatter(rng, test_preds)\n",
    "ax.errorbar(rng, test_preds, yerr=1.96*MSE)\n",
    "ax.set_title(\"Predictions with Error Bars\");"
   ]
  },
  {
   "cell_type": "raw",
   "metadata": {},
   "source": []
  },
  {
   "cell_type": "markdown",
   "metadata": {},
   "source": [
    "# 直接设置高斯过程\n",
    "regression_models方法"
   ]
  },
  {
   "cell_type": "code",
   "execution_count": 122,
   "metadata": {
    "collapsed": true
   },
   "outputs": [],
   "source": [
    "from sklearn.gaussian_process import regression_models"
   ]
  },
  {
   "cell_type": "code",
   "execution_count": 123,
   "metadata": {
    "collapsed": true
   },
   "outputs": [],
   "source": [
    "# 准备数据集\n",
    "from sklearn.datasets import make_regression\n",
    "X, y = make_regression(1000, 1, 1)"
   ]
  },
  {
   "cell_type": "code",
   "execution_count": 124,
   "metadata": {
    "collapsed": false
   },
   "outputs": [
    {
     "data": {
      "text/plain": [
       "array([[ 1.],\n",
       "       [ 1.],\n",
       "       [ 1.],\n",
       "       [ 1.],\n",
       "       [ 1.]])"
      ]
     },
     "execution_count": 124,
     "metadata": {},
     "output_type": "execute_result"
    }
   ],
   "source": [
    "regression_models.constant(X)[:5] # First up is the constant correlation function. This will comprise a constant and more for completeness"
   ]
  },
  {
   "cell_type": "code",
   "execution_count": 125,
   "metadata": {
    "collapsed": false
   },
   "outputs": [
    {
     "data": {
      "text/plain": [
       "array([[ 1.        ,  0.83837536]])"
      ]
     },
     "execution_count": 125,
     "metadata": {},
     "output_type": "execute_result"
    }
   ],
   "source": [
    "regression_models.linear(X)[:1] # Another option is the squared exponential correlation function. This is also the default for the GaussianProcess class"
   ]
  },
  {
   "cell_type": "code",
   "execution_count": 126,
   "metadata": {
    "collapsed": false
   },
   "outputs": [
    {
     "data": {
      "text/plain": [
       "array([[ 1.        ,  0.83837536,  0.70287325]])"
      ]
     },
     "execution_count": 126,
     "metadata": {},
     "output_type": "execute_result"
    }
   ],
   "source": [
    "regression_models.quadratic(X)[:1]"
   ]
  },
  {
   "cell_type": "markdown",
   "metadata": {},
   "source": [
    "Now that we have the regression function, we can feed it directly into the GaussianProcess object. The default is the constant regression function, but we can just as easily pass it in a linear model or a quadratic model."
   ]
  },
  {
   "cell_type": "raw",
   "metadata": {},
   "source": []
  },
  {
   "cell_type": "markdown",
   "metadata": {},
   "source": [
    "# 随机梯度下降\n",
    "SGDRegressor类"
   ]
  },
  {
   "cell_type": "code",
   "execution_count": 127,
   "metadata": {
    "collapsed": true
   },
   "outputs": [],
   "source": [
    "from sklearn import linear_model"
   ]
  },
  {
   "cell_type": "code",
   "execution_count": 128,
   "metadata": {
    "collapsed": false
   },
   "outputs": [
    {
     "data": {
      "text/plain": [
       "((1000000L, 100L), (1000000L,))"
      ]
     },
     "execution_count": 128,
     "metadata": {},
     "output_type": "execute_result"
    }
   ],
   "source": [
    "# 创建一个大数据集\n",
    "from sklearn import datasets\n",
    "X, y = datasets.make_regression(int(1e6))\n",
    "X.shape, y.shape # 100万个样本，100个特征"
   ]
  },
  {
   "cell_type": "code",
   "execution_count": 129,
   "metadata": {
    "collapsed": false
   },
   "outputs": [
    {
     "name": "stdout",
     "output_type": "stream",
     "text": [
      "800,000,000\n"
     ]
    }
   ],
   "source": [
    "print \"{:,}\".format(X.nbytes) # X数据集占用了8亿字节内存"
   ]
  },
  {
   "cell_type": "code",
   "execution_count": 130,
   "metadata": {
    "collapsed": false
   },
   "outputs": [
    {
     "data": {
      "text/plain": [
       "800.0"
      ]
     },
     "execution_count": 130,
     "metadata": {},
     "output_type": "execute_result"
    }
   ],
   "source": [
    "X.nbytes / 1e6 # X数据集占用了800MB内存"
   ]
  },
  {
   "cell_type": "code",
   "execution_count": 131,
   "metadata": {
    "collapsed": false
   },
   "outputs": [
    {
     "data": {
      "text/plain": [
       "8L"
      ]
     },
     "execution_count": 131,
     "metadata": {},
     "output_type": "execute_result"
    }
   ],
   "source": [
    "X.nbytes / (X.shape[0]*X.shape[1]) # 每个数据点占用了8字节内存（有100个特征，每个样本包含100个数据点）"
   ]
  },
  {
   "cell_type": "code",
   "execution_count": 132,
   "metadata": {
    "collapsed": false
   },
   "outputs": [
    {
     "data": {
      "text/plain": [
       "SGDRegressor(alpha=0.0001, average=False, epsilon=0.1, eta0=0.01,\n",
       "       fit_intercept=True, l1_ratio=0.15, learning_rate='invscaling',\n",
       "       loss='squared_loss', n_iter=5, penalty='l2', power_t=0.25,\n",
       "       random_state=None, shuffle=True, verbose=0, warm_start=False)"
      ]
     },
     "execution_count": 132,
     "metadata": {},
     "output_type": "execute_result"
    }
   ],
   "source": [
    "sgd = linear_model.SGDRegressor()\n",
    "train = np.random.choice([True, False], size=len(y), p=[.75, .25]) # 选取75%数据为训练集\n",
    "sgd.fit(X[train], y[train])"
   ]
  },
  {
   "cell_type": "markdown",
   "metadata": {},
   "source": [
    "参数\n",
    "+ loss: Squared_loss, which is the same thing that occurs during linear regression.\n",
    "+ fit_intercept: Scikit-learn will automatically include a column of ones.\n",
    "+ shuffle: Shuffle will generate a random shuffle of the data. This is useful if you want to break a potentially spurious correlation.\n",
    "+ verbose: If you like to see more through the output of the fitting, set verbose to 1."
   ]
  },
  {
   "cell_type": "code",
   "execution_count": 133,
   "metadata": {
    "collapsed": true
   },
   "outputs": [],
   "source": [
    "test_preds = sgd.predict(X[~train]) # 在测试集上测试模型效果"
   ]
  },
  {
   "cell_type": "code",
   "execution_count": 134,
   "metadata": {
    "collapsed": false
   },
   "outputs": [
    {
     "data": {
      "image/png": "[encoded data removed]",
      "text/plain": [
       "<matplotlib.figure.Figure at 0xbf59898>"
      ]
     },
     "metadata": {},
     "output_type": "display_data"
    }
   ],
   "source": [
    "from matplotlib import pyplot as plt\n",
    "f, ax = plt.subplots(figsize=(10, 7), nrows=1)\n",
    "f.tight_layout()\n",
    "\n",
    "ax.hist(test_preds - y[~train]); # 残差的分布直方图\n",
    "ax.set_title(\"Histogram of Residuals\"); # 拟合效果不错"
   ]
  }
 ],
 "metadata": {
  "kernelspec": {
   "display_name": "Python 2",
   "language": "python",
   "name": "python2"
  },
  "language_info": {
   "codemirror_mode": {
    "name": "ipython",
    "version": 2
   },
   "file_extension": ".py",
   "mimetype": "text/x-python",
   "name": "python",
   "nbconvert_exporter": "python",
   "pygments_lexer": "ipython2",
   "version": "2.7.11"
  }
 },
 "nbformat": 4,
 "nbformat_minor": 0
}
