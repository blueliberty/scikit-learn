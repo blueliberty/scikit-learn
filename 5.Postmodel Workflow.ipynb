{
 "cells": [
  {
   "cell_type": "markdown",
   "metadata": {},
   "source": [
    "# 目录\n",
    "+ K折交叉验证\n",
    "+ 自动进行交叉验证并评分\n",
    "+ 随机交叉验证\n",
    "+ 分层K折交叉验证\n",
    "+ 原生Python的Grid Search\n",
    "+ Grid Search\n",
    "+ 用虚拟模型建立baseline\n",
    "+ 评估回归模型\n",
    "+ 特征选择\n",
    "+ L1特征选择\n",
    "+ 用joblib保存模型"
   ]
  },
  {
   "cell_type": "code",
   "execution_count": 1,
   "metadata": {
    "collapsed": true
   },
   "outputs": [],
   "source": [
    "from pandas import DataFrame, Series\n",
    "import pandas as pd\n",
    "import numpy as np\n",
    "import scipy\n",
    "import matplotlib.pyplot as plt\n",
    "import seaborn as sns"
   ]
  },
  {
   "cell_type": "code",
   "execution_count": 2,
   "metadata": {
    "collapsed": true
   },
   "outputs": [],
   "source": [
    "%matplotlib inline"
   ]
  },
  {
   "cell_type": "markdown",
   "metadata": {},
   "source": [
    "# K折交叉验证\n",
    "model_selection.KFold类"
   ]
  },
  {
   "cell_type": "code",
   "execution_count": 3,
   "metadata": {
    "collapsed": false
   },
   "outputs": [],
   "source": [
    "from sklearn.model_selection import KFold"
   ]
  },
  {
   "cell_type": "code",
   "execution_count": 4,
   "metadata": {
    "collapsed": true
   },
   "outputs": [],
   "source": [
    "# 创建1000个样本的回归数据集\n",
    "N = 1000\n",
    "holdout = 200\n",
    "from sklearn.datasets import make_regression\n",
    "X, y = make_regression(1000, shuffle=True)"
   ]
  },
  {
   "cell_type": "code",
   "execution_count": 5,
   "metadata": {
    "collapsed": true
   },
   "outputs": [],
   "source": [
    "# 取200个样本做测试集，余下800个样本做训练集，用交叉验证做参数调优\n",
    "X_h, y_h = X[:holdout], y[:holdout]\n",
    "X_t, y_t = X[holdout:], y[holdout:]"
   ]
  },
  {
   "cell_type": "code",
   "execution_count": 6,
   "metadata": {
    "collapsed": false
   },
   "outputs": [],
   "source": [
    "# 生成KFold对象，4折交叉验证\n",
    "kfold = KFold(n_splits=4)"
   ]
  },
  {
   "cell_type": "code",
   "execution_count": 7,
   "metadata": {
    "collapsed": false
   },
   "outputs": [
    {
     "name": "stdout",
     "output_type": "stream",
     "text": [
      "Fold: 0, N_train: 600, N_test: 200\n",
      "Fold: 1, N_train: 600, N_test: 200\n",
      "Fold: 2, N_train: 600, N_test: 200\n",
      "Fold: 3, N_train: 600, N_test: 200\n"
     ]
    }
   ],
   "source": [
    "# split方法生成将数据集切分为训练集、验证集的索引\n",
    "output_string = \"Fold: {}, N_train: {}, N_test: {}\"\n",
    "\n",
    "for i, (train, test) in enumerate(kfold.split(X_t)):\n",
    "    print output_string.format(i, len(y_t[train]), len(y_t[test]))"
   ]
  },
  {
   "cell_type": "code",
   "execution_count": 8,
   "metadata": {
    "collapsed": false
   },
   "outputs": [
    {
     "data": {
      "text/plain": [
       "generator"
      ]
     },
     "execution_count": 8,
     "metadata": {},
     "output_type": "execute_result"
    }
   ],
   "source": [
    "# KFold对象是一个generator对象（生成器），用for循环来调用\n",
    "type(kfold.split(X_t))"
   ]
  },
  {
   "cell_type": "markdown",
   "metadata": {
    "collapsed": true
   },
   "source": [
    "## 示例\n",
    "长格式的数据集：每个样本占了8行，切分训练集和验证集时需要进行层次切分，即按照病人ID进行切分"
   ]
  },
  {
   "cell_type": "code",
   "execution_count": 9,
   "metadata": {
    "collapsed": false
   },
   "outputs": [
    {
     "data": {
      "text/html": [
       "<div>\n",
       "<table border=\"1\" class=\"dataframe\">\n",
       "  <thead>\n",
       "    <tr style=\"text-align: right;\">\n",
       "      <th></th>\n",
       "      <th>patient_id</th>\n",
       "      <th>ys</th>\n",
       "    </tr>\n",
       "  </thead>\n",
       "  <tbody>\n",
       "    <tr>\n",
       "      <th>0</th>\n",
       "      <td>0</td>\n",
       "      <td>-0.299172</td>\n",
       "    </tr>\n",
       "    <tr>\n",
       "      <th>1</th>\n",
       "      <td>0</td>\n",
       "      <td>0.863376</td>\n",
       "    </tr>\n",
       "    <tr>\n",
       "      <th>2</th>\n",
       "      <td>0</td>\n",
       "      <td>-1.579346</td>\n",
       "    </tr>\n",
       "    <tr>\n",
       "      <th>3</th>\n",
       "      <td>0</td>\n",
       "      <td>-0.444232</td>\n",
       "    </tr>\n",
       "    <tr>\n",
       "      <th>4</th>\n",
       "      <td>0</td>\n",
       "      <td>1.228710</td>\n",
       "    </tr>\n",
       "  </tbody>\n",
       "</table>\n",
       "</div>"
      ],
      "text/plain": [
       "   patient_id        ys\n",
       "0           0 -0.299172\n",
       "1           0  0.863376\n",
       "2           0 -1.579346\n",
       "3           0 -0.444232\n",
       "4           0  1.228710"
      ]
     },
     "execution_count": 9,
     "metadata": {},
     "output_type": "execute_result"
    }
   ],
   "source": [
    "# 创建包含100个病人和8次检查结果的数据集\n",
    "import numpy as np\n",
    "import pandas as pd\n",
    "\n",
    "# 100个病人，每个病人有8次检查，因而病人ID重复8次\n",
    "patients = np.repeat(np.arange(0, 100, dtype=np.int8), 8)\n",
    "\n",
    "# 用随机数代表病人的8次检查结果，生成数据框\n",
    "measurements = pd.DataFrame({'patient_id': patients, 'ys': np.random.normal(0, 1, 800)})\n",
    "\n",
    "measurements.head()"
   ]
  },
  {
   "cell_type": "code",
   "execution_count": 10,
   "metadata": {
    "collapsed": false
   },
   "outputs": [
    {
     "name": "stdout",
     "output_type": "stream",
     "text": [
      "Fold: 0, N_train: 600, N_test: 200\n",
      "Fold: 1, N_train: 600, N_test: 200\n",
      "Fold: 2, N_train: 600, N_test: 200\n",
      "Fold: 3, N_train: 600, N_test: 200\n"
     ]
    }
   ],
   "source": [
    "# 返回病人ID（0-99）\n",
    "custids = np.unique(measurements.patient_id)\n",
    "\n",
    "# 生成4折交叉验证的对象\n",
    "customer_kfold = KFold(n_splits=4)\n",
    "\n",
    "output_string = \"Fold: {}, N_train: {}, N_test: {}\"\n",
    "\n",
    "for i, (train, test) in enumerate(customer_kfold.split(custids)): # 将病人ID进行4折切分\n",
    "    \n",
    "    train_cust_ids = custids[train]\n",
    "    \n",
    "    # 在measurements数据集上切分成训练集\n",
    "    training = measurements[measurements.patient_id.isin(train_cust_ids)]\n",
    "    # 在measurements数据集上切分成验证集\n",
    "    testing = measurements[~measurements.patient_id.isin(train_cust_ids)]\n",
    "    \n",
    "    print output_string.format(i, len(training), len(testing))"
   ]
  },
  {
   "cell_type": "raw",
   "metadata": {
    "collapsed": true
   },
   "source": []
  },
  {
   "cell_type": "markdown",
   "metadata": {
    "collapsed": true
   },
   "source": [
    "# 自动进行交叉验证并评分\n",
    "model_selection.cross_val_score类"
   ]
  },
  {
   "cell_type": "code",
   "execution_count": 11,
   "metadata": {
    "collapsed": true
   },
   "outputs": [],
   "source": [
    "from sklearn import model_selection"
   ]
  },
  {
   "cell_type": "code",
   "execution_count": 12,
   "metadata": {
    "collapsed": true
   },
   "outputs": [],
   "source": [
    "# 用随机森林回归模型作为示例\n",
    "from sklearn import ensemble\n",
    "rf = ensemble.RandomForestRegressor(max_features='auto')"
   ]
  },
  {
   "cell_type": "code",
   "execution_count": 13,
   "metadata": {
    "collapsed": true
   },
   "outputs": [],
   "source": [
    "# 创建回归数据集\n",
    "from sklearn import datasets\n",
    "X, y = datasets.make_regression(10000, 10)"
   ]
  },
  {
   "cell_type": "code",
   "execution_count": 14,
   "metadata": {
    "collapsed": true
   },
   "outputs": [],
   "source": [
    "# 默认进行3折交叉验证，为模型评分\n",
    "scores = model_selection.cross_val_score(rf, X, y)"
   ]
  },
  {
   "cell_type": "code",
   "execution_count": 15,
   "metadata": {
    "collapsed": false
   },
   "outputs": [
    {
     "name": "stdout",
     "output_type": "stream",
     "text": [
      "[ 0.87554292  0.87905026  0.87709637]\n"
     ]
    }
   ],
   "source": [
    "print scores"
   ]
  },
  {
   "cell_type": "code",
   "execution_count": 16,
   "metadata": {
    "collapsed": false
   },
   "outputs": [
    {
     "name": "stdout",
     "output_type": "stream",
     "text": [
      "[CV]  ................................................................\n",
      "[CV] ....................................... , score=0.879888 -   0.0s\n",
      "[CV]  ................................................................\n"
     ]
    },
    {
     "name": "stderr",
     "output_type": "stream",
     "text": [
      "[Parallel(n_jobs=1)]: Done   1 out of   1 | elapsed:    0.4s remaining:    0.0s\n"
     ]
    },
    {
     "name": "stdout",
     "output_type": "stream",
     "text": [
      "[CV] ....................................... , score=0.886936 -   0.0s\n",
      "[CV]  ................................................................\n"
     ]
    },
    {
     "name": "stderr",
     "output_type": "stream",
     "text": [
      "[Parallel(n_jobs=1)]: Done   2 out of   2 | elapsed:    1.0s remaining:    0.0s\n"
     ]
    },
    {
     "name": "stdout",
     "output_type": "stream",
     "text": [
      "[CV] ....................................... , score=0.880647 -   0.0s\n",
      "[CV]  ................................................................\n",
      "[CV] ....................................... , score=0.875245 -   0.0s\n"
     ]
    },
    {
     "name": "stderr",
     "output_type": "stream",
     "text": [
      "[Parallel(n_jobs=1)]: Done   4 out of   4 | elapsed:    2.5s finished\n"
     ]
    }
   ],
   "source": [
    "# 设置4折交叉验证，设置verbose显示交叉验证详细过程（每一轮的评分、用时等）\n",
    "scores = model_selection.cross_val_score(rf, X, y, verbose=3, cv=4)"
   ]
  },
  {
   "cell_type": "raw",
   "metadata": {
    "collapsed": true
   },
   "source": []
  },
  {
   "cell_type": "markdown",
   "metadata": {
    "collapsed": true
   },
   "source": [
    "# 随机交叉验证\n",
    "model_selection.ShuffleSplit类"
   ]
  },
  {
   "cell_type": "code",
   "execution_count": 17,
   "metadata": {
    "collapsed": false
   },
   "outputs": [],
   "source": [
    "from sklearn.model_selection import ShuffleSplit"
   ]
  },
  {
   "cell_type": "code",
   "execution_count": 18,
   "metadata": {
    "collapsed": true
   },
   "outputs": [],
   "source": [
    "# 生成数据集，1000个样本，服从N(1000, 10)的正态分布\n",
    "import numpy as np\n",
    "\n",
    "true_loc = 1000\n",
    "true_scale = 10\n",
    "N = 1000\n",
    "\n",
    "dataset = np.random.normal(true_loc, true_scale, N)"
   ]
  },
  {
   "cell_type": "code",
   "execution_count": 19,
   "metadata": {
    "collapsed": false
   },
   "outputs": [
    {
     "data": {
      "image/png": "[encoded data removed]",
      "text/plain": [
       "<matplotlib.figure.Figure at 0xa7b3e80>"
      ]
     },
     "metadata": {},
     "output_type": "display_data"
    }
   ],
   "source": [
    "# 数据集服从正态分布\n",
    "import matplotlib.pyplot as plt\n",
    "\n",
    "f, ax = plt.subplots(figsize=(7, 5))\n",
    "\n",
    "ax.hist(dataset, color='k', alpha=.65, histtype='stepfilled');\n",
    "ax.set_title(\"Histogram of dataset\");"
   ]
  },
  {
   "cell_type": "code",
   "execution_count": 20,
   "metadata": {
    "collapsed": true
   },
   "outputs": [],
   "source": [
    "# 取数据集中一半样本估计其均值\n",
    "holdout_set = dataset[:500]\n",
    "fitting_set = dataset[500:]"
   ]
  },
  {
   "cell_type": "code",
   "execution_count": 21,
   "metadata": {
    "collapsed": true
   },
   "outputs": [],
   "source": [
    "estimate = fitting_set[:N/2].mean()"
   ]
  },
  {
   "cell_type": "code",
   "execution_count": 22,
   "metadata": {
    "collapsed": false
   },
   "outputs": [
    {
     "data": {
      "image/png": "[encoded data removed]",
      "text/plain": [
       "<matplotlib.figure.Figure at 0xab04da0>"
      ]
     },
     "metadata": {},
     "output_type": "display_data"
    }
   ],
   "source": [
    "import matplotlib.pyplot as plt\n",
    "\n",
    "f, ax = plt.subplots(figsize=(7, 5))\n",
    "\n",
    "ax.set_title(\"True Mean vs Regular Estimate\")\n",
    "\n",
    "ax.vlines(true_loc, 0, 1, color='r', linestyles='-', lw=5, alpha=.65, label='true mean')\n",
    "ax.vlines(estimate, 0, 1, color='g', linestyles='-', lw=5, alpha=.65, label='regular estimate')\n",
    "\n",
    "ax.set_xlim(999, 1001)\n",
    "\n",
    "ax.legend();"
   ]
  },
  {
   "cell_type": "code",
   "execution_count": 23,
   "metadata": {
    "collapsed": false
   },
   "outputs": [],
   "source": [
    "from sklearn.model_selection import ShuffleSplit"
   ]
  },
  {
   "cell_type": "code",
   "execution_count": 24,
   "metadata": {
    "collapsed": false
   },
   "outputs": [],
   "source": [
    "# 生成ShuffleSplit对象，默认10折（随机选取10%的样本作为验证集，剩下样本作为训练集，如此循环10次）\n",
    "# 不同于普通交叉验证每一折都是严格区分不重复，随机交叉验证，每一次循环中验证集都是随机选取的，因此有可能重复\n",
    "shuffle_split = ShuffleSplit()"
   ]
  },
  {
   "cell_type": "code",
   "execution_count": 25,
   "metadata": {
    "collapsed": false
   },
   "outputs": [],
   "source": [
    "mean_p = []\n",
    "\n",
    "for train, _ in shuffle_split.split(fitting_set):\n",
    "    mean_p.append(fitting_set[train].mean())\n",
    "    \n",
    "shuf_estimate = np.mean(mean_p)"
   ]
  },
  {
   "cell_type": "code",
   "execution_count": 26,
   "metadata": {
    "collapsed": false
   },
   "outputs": [
    {
     "data": {
      "image/png": "[encoded data removed]",
      "text/plain": [
       "<matplotlib.figure.Figure at 0xaa6a668>"
      ]
     },
     "metadata": {},
     "output_type": "display_data"
    }
   ],
   "source": [
    "import matplotlib.pyplot as plt\n",
    "\n",
    "f, ax = plt.subplots(figsize=(7, 5))\n",
    "\n",
    "ax.vlines(true_loc, 0, 1, color='r', linestyles='-', lw=5, alpha=.65, label='true mean')\n",
    "ax.vlines(estimate, 0, 1, color='g', linestyles='-', lw=5, alpha=.65, label='regular estimate')\n",
    "ax.vlines(shuf_estimate, 0, 1, color='b', linestyles='-', lw=5, alpha=.65, label='shufflesplit estimate')\n",
    "\n",
    "ax.set_title(\"All Estimates\")\n",
    "ax.set_xlim(999, 1001)\n",
    "\n",
    "ax.legend(loc=3);"
   ]
  },
  {
   "cell_type": "raw",
   "metadata": {
    "collapsed": true
   },
   "source": []
  },
  {
   "cell_type": "markdown",
   "metadata": {
    "collapsed": true
   },
   "source": [
    "# 分层K折交叉验证\n",
    "StratifiedKFold类"
   ]
  },
  {
   "cell_type": "code",
   "execution_count": 27,
   "metadata": {
    "collapsed": true
   },
   "outputs": [],
   "source": [
    "from sklearn.model_selection import StratifiedKFold"
   ]
  },
  {
   "cell_type": "code",
   "execution_count": 28,
   "metadata": {
    "collapsed": true
   },
   "outputs": [],
   "source": [
    "# 创建不平衡的分类数据集\n",
    "from sklearn import datasets\n",
    "X, y = datasets.make_classification(n_samples=int(1e3), weights=[1./11])"
   ]
  },
  {
   "cell_type": "code",
   "execution_count": 29,
   "metadata": {
    "collapsed": false
   },
   "outputs": [
    {
     "data": {
      "text/plain": [
       "0.90400000000000003"
      ]
     },
     "execution_count": 29,
     "metadata": {},
     "output_type": "execute_result"
    }
   ],
   "source": [
    "# 90.3%正例\n",
    "y.mean()"
   ]
  },
  {
   "cell_type": "code",
   "execution_count": 30,
   "metadata": {
    "collapsed": true
   },
   "outputs": [],
   "source": [
    "n_splits = 50\n",
    "\n",
    "strat_kfold = StratifiedKFold(n_splits=n_splits)\n",
    "shuff_split = ShuffleSplit(n_splits=n_splits)"
   ]
  },
  {
   "cell_type": "code",
   "execution_count": 31,
   "metadata": {
    "collapsed": false
   },
   "outputs": [],
   "source": [
    "kfold_y_props = []\n",
    "shuff_y_props = []\n",
    "\n",
    "for (k_train, k_test), (s_train, s_test) in zip(strat_kfold.split(X, y), shuff_split.split(X)):\n",
    "    \n",
    "    # 分层10折交叉验证\n",
    "    kfold_y_props.append(y[k_train].mean())\n",
    "    # 随机10折交叉验证\n",
    "    shuff_y_props.append(y[s_train].mean())"
   ]
  },
  {
   "cell_type": "code",
   "execution_count": 32,
   "metadata": {
    "collapsed": false
   },
   "outputs": [
    {
     "data": {
      "image/png": "[encoded data removed]",
      "text/plain": [
       "<matplotlib.figure.Figure at 0xaa6a0b8>"
      ]
     },
     "metadata": {},
     "output_type": "display_data"
    }
   ],
   "source": [
    "# 随机交叉验证，每一折训练集正例上下波动；分层交叉验证，每一折训练集正例不变\n",
    "f, ax = plt.subplots(figsize=(7, 5))\n",
    "\n",
    "ax.plot(range(n_splits), shuff_y_props, label=\"ShuffleSplit\", color='k')\n",
    "ax.plot(range(n_splits), kfold_y_props, label=\"Stratified\", color='k', ls='--')\n",
    "ax.set_title(\"Comparing class proportions.\")\n",
    "\n",
    "ax.legend(loc='best');"
   ]
  },
  {
   "cell_type": "code",
   "execution_count": 33,
   "metadata": {
    "collapsed": true
   },
   "outputs": [],
   "source": [
    "three_classes_X = np.arange(1000)\n",
    "three_classes_y = np.random.choice([1,2,3], p=[.1, .4, .5], size=1000)"
   ]
  },
  {
   "cell_type": "code",
   "execution_count": 34,
   "metadata": {
    "collapsed": false
   },
   "outputs": [
    {
     "name": "stdout",
     "output_type": "stream",
     "text": [
      "[  0  89 331 379]\n",
      "[  0  89 331 379]\n",
      "[  0  90 331 379]\n",
      "[  0  90 331 379]\n",
      "[  0  90 332 380]\n"
     ]
    }
   ],
   "source": [
    "strat_test = StratifiedKFold(5)\n",
    "\n",
    "# np.bincount求出每一次选出的训练集中1、2、3类的样本数，可以看出，每一个训练集的样本类别比例基本保持不变\n",
    "for train, test in strat_test.split(three_classes_X, three_classes_y):\n",
    "    print np.bincount(three_classes_y[train])"
   ]
  },
  {
   "cell_type": "raw",
   "metadata": {
    "collapsed": true
   },
   "source": []
  },
  {
   "cell_type": "markdown",
   "metadata": {
    "collapsed": true
   },
   "source": [
    "# 原生Python的Grid Search"
   ]
  },
  {
   "cell_type": "markdown",
   "metadata": {
    "collapsed": true
   },
   "source": [
    "待选择参数的模型为决策树模型，参数空间为2维：\n",
    "\n",
    "$$\n",
    "\\text{criteria} = \\{\\text{gini}, \\text{entropy}\\}\n",
    "$$\n",
    "\n",
    "$$\n",
    "\\text{max_features} = \\{\\text{auto}, \\text{log2}, \\text{None}\\}\n",
    "$$\n",
    "\n",
    "参数空间为：\n",
    "\n",
    "$$\n",
    "\\text{parameter space} = \\text{criteria} \\times \\text{max_features}\n",
    "$$"
   ]
  },
  {
   "cell_type": "code",
   "execution_count": 35,
   "metadata": {
    "collapsed": true
   },
   "outputs": [],
   "source": [
    "# 创建分类数据集\n",
    "from sklearn import datasets\n",
    "X, y = datasets.make_classification(n_samples=2000, n_features=10)"
   ]
  },
  {
   "cell_type": "code",
   "execution_count": 36,
   "metadata": {
    "collapsed": true
   },
   "outputs": [],
   "source": [
    "# 生成参数空间\n",
    "criteria = {'gini', 'entropy'}\n",
    "max_features = {'auto', 'log2', None}\n",
    "\n",
    "import itertools as it\n",
    "\n",
    "parameter_space = it.product(criteria, max_features)"
   ]
  },
  {
   "cell_type": "code",
   "execution_count": 37,
   "metadata": {
    "collapsed": true
   },
   "outputs": [],
   "source": [
    "# 一半样本点为训练集，另一半样本点为验证集\n",
    "import numpy as np\n",
    "train_set = np.random.choice([True, False], size=len(y))"
   ]
  },
  {
   "cell_type": "code",
   "execution_count": 38,
   "metadata": {
    "collapsed": true
   },
   "outputs": [],
   "source": [
    "# 对每一组参数训练一个决策树模型，并将其损失函数的结果保存在字典中\n",
    "\n",
    "from sklearn.tree import DecisionTreeClassifier\n",
    "\n",
    "accuracies = {}\n",
    "\n",
    "for criterion, max_feature in parameter_space:\n",
    "    dt = DecisionTreeClassifier(criterion=criterion, max_features=max_feature)\n",
    "    \n",
    "    dt.fit(X[train_set], y[train_set])\n",
    "    \n",
    "    accuracies[(criterion, max_feature)] = (dt.predict(X[~train_set]) == y[~train_set]).mean()"
   ]
  },
  {
   "cell_type": "code",
   "execution_count": 39,
   "metadata": {
    "collapsed": false
   },
   "outputs": [
    {
     "data": {
      "text/plain": [
       "{('entropy', None): 0.83623336745138177,\n",
       " ('entropy', 'auto'): 0.86182190378710333,\n",
       " ('entropy', 'log2'): 0.87001023541453426,\n",
       " ('gini', None): 0.86489252814738993,\n",
       " ('gini', 'auto'): 0.87512794268167859,\n",
       " ('gini', 'log2'): 0.86386898669396106}"
      ]
     },
     "execution_count": 39,
     "metadata": {},
     "output_type": "execute_result"
    }
   ],
   "source": [
    "accuracies"
   ]
  },
  {
   "cell_type": "code",
   "execution_count": 40,
   "metadata": {
    "collapsed": false
   },
   "outputs": [
    {
     "data": {
      "image/png": "[encoded data removed]",
      "text/plain": [
       "<matplotlib.figure.Figure at 0xa993c88>"
      ]
     },
     "metadata": {},
     "output_type": "display_data"
    }
   ],
   "source": [
    "# 通过比较损失函数的大小，在参数空间中选择最优的参数\n",
    "\n",
    "from matplotlib import pyplot as plt\n",
    "\n",
    "from matplotlib import cm\n",
    "cmap = cm.RdBu_r\n",
    "\n",
    "f, ax = plt.subplots(figsize=(7, 4))\n",
    "\n",
    "ax.set_xticklabels([''] + list(criteria))\n",
    "ax.set_yticklabels([''] + list(max_features))\n",
    "\n",
    "plot_array = []\n",
    "\n",
    "\n",
    "for max_feature in max_features:\n",
    "    \n",
    "    m = []\n",
    "    for criterion in criteria:\n",
    "        \n",
    "        m.append(accuracies[(criterion, max_feature)])\n",
    "        \n",
    "    plot_array.append(m)\n",
    "\n",
    "colors = ax.matshow(plot_array,\n",
    "                    vmin=np.min(accuracies.values()) - 0.001,\n",
    "                    vmax=np.max(accuracies.values()) + 0.001,\n",
    "                    cmap=cmap)\n",
    "\n",
    "plt.grid(False)\n",
    "\n",
    "f.colorbar(colors);"
   ]
  },
  {
   "cell_type": "raw",
   "metadata": {},
   "source": []
  },
  {
   "cell_type": "markdown",
   "metadata": {},
   "source": [
    "# Grid Search\n",
    "GridSearchCV类和RandomizedSearchCV类"
   ]
  },
  {
   "cell_type": "code",
   "execution_count": 41,
   "metadata": {
    "collapsed": false
   },
   "outputs": [],
   "source": [
    "from sklearn.model_selection import GridSearchCV, RandomizedSearchCV"
   ]
  },
  {
   "cell_type": "code",
   "execution_count": 42,
   "metadata": {
    "collapsed": true
   },
   "outputs": [],
   "source": [
    "# 创建分类数据集\n",
    "from sklearn.datasets import make_classification\n",
    "X, y = make_classification(1000, n_features=5)"
   ]
  },
  {
   "cell_type": "code",
   "execution_count": 43,
   "metadata": {
    "collapsed": true
   },
   "outputs": [],
   "source": [
    "from sklearn.linear_model import LogisticRegression\n",
    "lr = LogisticRegression(class_weight='balanced')"
   ]
  },
  {
   "cell_type": "code",
   "execution_count": 44,
   "metadata": {
    "collapsed": false,
    "scrolled": true
   },
   "outputs": [
    {
     "data": {
      "text/plain": [
       "LogisticRegression(C=1.0, class_weight='balanced', dual=False,\n",
       "          fit_intercept=True, intercept_scaling=1, max_iter=100,\n",
       "          multi_class='ovr', n_jobs=1, penalty='l2', random_state=None,\n",
       "          solver='liblinear', tol=0.0001, verbose=0, warm_start=False)"
      ]
     },
     "execution_count": 44,
     "metadata": {},
     "output_type": "execute_result"
    }
   ],
   "source": [
    "lr.fit(X, y)"
   ]
  },
  {
   "cell_type": "markdown",
   "metadata": {},
   "source": [
    "## Grid Search"
   ]
  },
  {
   "cell_type": "code",
   "execution_count": 45,
   "metadata": {
    "collapsed": true
   },
   "outputs": [],
   "source": [
    "# 生成GridSearch的参数空间\n",
    "grid_search_params = {\n",
    "    'penalty': ['l1', 'l2'],\n",
    "    'C': [1, 2, 3, 4]\n",
    "}"
   ]
  },
  {
   "cell_type": "code",
   "execution_count": 46,
   "metadata": {
    "collapsed": false
   },
   "outputs": [
    {
     "data": {
      "text/plain": [
       "GridSearchCV(cv=None, error_score='raise',\n",
       "       estimator=LogisticRegression(C=1.0, class_weight='balanced', dual=False,\n",
       "          fit_intercept=True, intercept_scaling=1, max_iter=100,\n",
       "          multi_class='ovr', n_jobs=1, penalty='l2', random_state=None,\n",
       "          solver='liblinear', tol=0.0001, verbose=0, warm_start=False),\n",
       "       fit_params={}, iid=True, n_jobs=1,\n",
       "       param_grid={'penalty': ['l1', 'l2'], 'C': [1, 2, 3, 4]},\n",
       "       pre_dispatch='2*n_jobs', refit=True, return_train_score=True,\n",
       "       scoring=None, verbose=0)"
      ]
     },
     "execution_count": 46,
     "metadata": {},
     "output_type": "execute_result"
    }
   ],
   "source": [
    "gs = GridSearchCV(lr, grid_search_params)\n",
    "gs.fit(X, y)"
   ]
  },
  {
   "cell_type": "code",
   "execution_count": 47,
   "metadata": {
    "collapsed": false
   },
   "outputs": [
    {
     "data": {
      "text/plain": [
       "{'mean_fit_time': array([ 0.00266663,  0.00133332,  0.00266663,  0.0013334 ,  0.00533326,\n",
       "         0.00266671,  0.00266663,  0.        ]),\n",
       " 'mean_score_time': array([ 0.        ,  0.        ,  0.00033339,  0.        ,  0.        ,\n",
       "         0.        ,  0.        ,  0.        ]),\n",
       " 'mean_test_score': array([ 0.931,  0.931,  0.931,  0.931,  0.931,  0.931,  0.931,  0.931]),\n",
       " 'mean_train_score': array([ 0.93249772,  0.93249847,  0.93299822,  0.93299897,  0.93299897,\n",
       "         0.93299897,  0.93299897,  0.93299897]),\n",
       " 'param_C': masked_array(data = [1 1 2 2 3 3 4 4],\n",
       "              mask = [False False False False False False False False],\n",
       "        fill_value = ?),\n",
       " 'param_penalty': masked_array(data = ['l1' 'l2' 'l1' 'l2' 'l1' 'l2' 'l1' 'l2'],\n",
       "              mask = [False False False False False False False False],\n",
       "        fill_value = ?),\n",
       " 'params': ({'C': 1, 'penalty': 'l1'},\n",
       "  {'C': 1, 'penalty': 'l2'},\n",
       "  {'C': 2, 'penalty': 'l1'},\n",
       "  {'C': 2, 'penalty': 'l2'},\n",
       "  {'C': 3, 'penalty': 'l1'},\n",
       "  {'C': 3, 'penalty': 'l2'},\n",
       "  {'C': 4, 'penalty': 'l1'},\n",
       "  {'C': 4, 'penalty': 'l2'}),\n",
       " 'rank_test_score': array([1, 1, 1, 1, 1, 1, 1, 1]),\n",
       " 'split0_test_score': array([ 0.93712575,  0.93712575,  0.93712575,  0.93712575,  0.93712575,\n",
       "         0.93712575,  0.93712575,  0.93712575]),\n",
       " 'split0_train_score': array([ 0.92792793,  0.92942943,  0.92942943,  0.93093093,  0.93093093,\n",
       "         0.93093093,  0.93093093,  0.93093093]),\n",
       " 'split1_test_score': array([ 0.93093093,  0.93093093,  0.93093093,  0.93093093,  0.93093093,\n",
       "         0.93093093,  0.93093093,  0.93093093]),\n",
       " 'split1_train_score': array([ 0.93553223,  0.93553223,  0.93553223,  0.93553223,  0.93553223,\n",
       "         0.93553223,  0.93553223,  0.93553223]),\n",
       " 'split2_test_score': array([ 0.92492492,  0.92492492,  0.92492492,  0.92492492,  0.92492492,\n",
       "         0.92492492,  0.92492492,  0.92492492]),\n",
       " 'split2_train_score': array([ 0.93403298,  0.93253373,  0.93403298,  0.93253373,  0.93253373,\n",
       "         0.93253373,  0.93253373,  0.93253373]),\n",
       " 'std_fit_time': array([ 0.00188559,  0.00188559,  0.00124723,  0.00188571,  0.00188559,\n",
       "         0.00188565,  0.00188559,  0.        ]),\n",
       " 'std_score_time': array([ 0.        ,  0.        ,  0.00047148,  0.        ,  0.        ,\n",
       "         0.        ,  0.        ,  0.        ]),\n",
       " 'std_test_score': array([ 0.00498244,  0.00498244,  0.00498244,  0.00498244,  0.00498244,\n",
       "         0.00498244,  0.00498244,  0.00498244]),\n",
       " 'std_train_score': array([ 0.00328878,  0.00249158,  0.00259668,  0.00190706,  0.00190706,\n",
       "         0.00190706,  0.00190706,  0.00190706])}"
      ]
     },
     "execution_count": 47,
     "metadata": {},
     "output_type": "execute_result"
    }
   ],
   "source": [
    "gs.cv_results_"
   ]
  },
  {
   "cell_type": "code",
   "execution_count": 48,
   "metadata": {
    "collapsed": false
   },
   "outputs": [
    {
     "data": {
      "text/html": [
       "<div>\n",
       "<table border=\"1\" class=\"dataframe\">\n",
       "  <thead>\n",
       "    <tr style=\"text-align: right;\">\n",
       "      <th></th>\n",
       "      <th>mean_fit_time</th>\n",
       "      <th>mean_score_time</th>\n",
       "      <th>mean_test_score</th>\n",
       "      <th>mean_train_score</th>\n",
       "      <th>param_C</th>\n",
       "      <th>param_penalty</th>\n",
       "      <th>params</th>\n",
       "      <th>rank_test_score</th>\n",
       "      <th>split0_test_score</th>\n",
       "      <th>split0_train_score</th>\n",
       "      <th>split1_test_score</th>\n",
       "      <th>split1_train_score</th>\n",
       "      <th>split2_test_score</th>\n",
       "      <th>split2_train_score</th>\n",
       "      <th>std_fit_time</th>\n",
       "      <th>std_score_time</th>\n",
       "      <th>std_test_score</th>\n",
       "      <th>std_train_score</th>\n",
       "    </tr>\n",
       "  </thead>\n",
       "  <tbody>\n",
       "    <tr>\n",
       "      <th>0</th>\n",
       "      <td>0.002667</td>\n",
       "      <td>0.000000</td>\n",
       "      <td>0.931</td>\n",
       "      <td>0.932498</td>\n",
       "      <td>1</td>\n",
       "      <td>l1</td>\n",
       "      <td>{u'penalty': u'l1', u'C': 1}</td>\n",
       "      <td>1</td>\n",
       "      <td>0.937126</td>\n",
       "      <td>0.927928</td>\n",
       "      <td>0.930931</td>\n",
       "      <td>0.935532</td>\n",
       "      <td>0.924925</td>\n",
       "      <td>0.934033</td>\n",
       "      <td>0.001886</td>\n",
       "      <td>0.000000</td>\n",
       "      <td>0.004982</td>\n",
       "      <td>0.003289</td>\n",
       "    </tr>\n",
       "    <tr>\n",
       "      <th>1</th>\n",
       "      <td>0.001333</td>\n",
       "      <td>0.000000</td>\n",
       "      <td>0.931</td>\n",
       "      <td>0.932498</td>\n",
       "      <td>1</td>\n",
       "      <td>l2</td>\n",
       "      <td>{u'penalty': u'l2', u'C': 1}</td>\n",
       "      <td>1</td>\n",
       "      <td>0.937126</td>\n",
       "      <td>0.929429</td>\n",
       "      <td>0.930931</td>\n",
       "      <td>0.935532</td>\n",
       "      <td>0.924925</td>\n",
       "      <td>0.932534</td>\n",
       "      <td>0.001886</td>\n",
       "      <td>0.000000</td>\n",
       "      <td>0.004982</td>\n",
       "      <td>0.002492</td>\n",
       "    </tr>\n",
       "    <tr>\n",
       "      <th>2</th>\n",
       "      <td>0.002667</td>\n",
       "      <td>0.000333</td>\n",
       "      <td>0.931</td>\n",
       "      <td>0.932998</td>\n",
       "      <td>2</td>\n",
       "      <td>l1</td>\n",
       "      <td>{u'penalty': u'l1', u'C': 2}</td>\n",
       "      <td>1</td>\n",
       "      <td>0.937126</td>\n",
       "      <td>0.929429</td>\n",
       "      <td>0.930931</td>\n",
       "      <td>0.935532</td>\n",
       "      <td>0.924925</td>\n",
       "      <td>0.934033</td>\n",
       "      <td>0.001247</td>\n",
       "      <td>0.000471</td>\n",
       "      <td>0.004982</td>\n",
       "      <td>0.002597</td>\n",
       "    </tr>\n",
       "    <tr>\n",
       "      <th>3</th>\n",
       "      <td>0.001333</td>\n",
       "      <td>0.000000</td>\n",
       "      <td>0.931</td>\n",
       "      <td>0.932999</td>\n",
       "      <td>2</td>\n",
       "      <td>l2</td>\n",
       "      <td>{u'penalty': u'l2', u'C': 2}</td>\n",
       "      <td>1</td>\n",
       "      <td>0.937126</td>\n",
       "      <td>0.930931</td>\n",
       "      <td>0.930931</td>\n",
       "      <td>0.935532</td>\n",
       "      <td>0.924925</td>\n",
       "      <td>0.932534</td>\n",
       "      <td>0.001886</td>\n",
       "      <td>0.000000</td>\n",
       "      <td>0.004982</td>\n",
       "      <td>0.001907</td>\n",
       "    </tr>\n",
       "    <tr>\n",
       "      <th>4</th>\n",
       "      <td>0.005333</td>\n",
       "      <td>0.000000</td>\n",
       "      <td>0.931</td>\n",
       "      <td>0.932999</td>\n",
       "      <td>3</td>\n",
       "      <td>l1</td>\n",
       "      <td>{u'penalty': u'l1', u'C': 3}</td>\n",
       "      <td>1</td>\n",
       "      <td>0.937126</td>\n",
       "      <td>0.930931</td>\n",
       "      <td>0.930931</td>\n",
       "      <td>0.935532</td>\n",
       "      <td>0.924925</td>\n",
       "      <td>0.932534</td>\n",
       "      <td>0.001886</td>\n",
       "      <td>0.000000</td>\n",
       "      <td>0.004982</td>\n",
       "      <td>0.001907</td>\n",
       "    </tr>\n",
       "    <tr>\n",
       "      <th>5</th>\n",
       "      <td>0.002667</td>\n",
       "      <td>0.000000</td>\n",
       "      <td>0.931</td>\n",
       "      <td>0.932999</td>\n",
       "      <td>3</td>\n",
       "      <td>l2</td>\n",
       "      <td>{u'penalty': u'l2', u'C': 3}</td>\n",
       "      <td>1</td>\n",
       "      <td>0.937126</td>\n",
       "      <td>0.930931</td>\n",
       "      <td>0.930931</td>\n",
       "      <td>0.935532</td>\n",
       "      <td>0.924925</td>\n",
       "      <td>0.932534</td>\n",
       "      <td>0.001886</td>\n",
       "      <td>0.000000</td>\n",
       "      <td>0.004982</td>\n",
       "      <td>0.001907</td>\n",
       "    </tr>\n",
       "    <tr>\n",
       "      <th>6</th>\n",
       "      <td>0.002667</td>\n",
       "      <td>0.000000</td>\n",
       "      <td>0.931</td>\n",
       "      <td>0.932999</td>\n",
       "      <td>4</td>\n",
       "      <td>l1</td>\n",
       "      <td>{u'penalty': u'l1', u'C': 4}</td>\n",
       "      <td>1</td>\n",
       "      <td>0.937126</td>\n",
       "      <td>0.930931</td>\n",
       "      <td>0.930931</td>\n",
       "      <td>0.935532</td>\n",
       "      <td>0.924925</td>\n",
       "      <td>0.932534</td>\n",
       "      <td>0.001886</td>\n",
       "      <td>0.000000</td>\n",
       "      <td>0.004982</td>\n",
       "      <td>0.001907</td>\n",
       "    </tr>\n",
       "    <tr>\n",
       "      <th>7</th>\n",
       "      <td>0.000000</td>\n",
       "      <td>0.000000</td>\n",
       "      <td>0.931</td>\n",
       "      <td>0.932999</td>\n",
       "      <td>4</td>\n",
       "      <td>l2</td>\n",
       "      <td>{u'penalty': u'l2', u'C': 4}</td>\n",
       "      <td>1</td>\n",
       "      <td>0.937126</td>\n",
       "      <td>0.930931</td>\n",
       "      <td>0.930931</td>\n",
       "      <td>0.935532</td>\n",
       "      <td>0.924925</td>\n",
       "      <td>0.932534</td>\n",
       "      <td>0.000000</td>\n",
       "      <td>0.000000</td>\n",
       "      <td>0.004982</td>\n",
       "      <td>0.001907</td>\n",
       "    </tr>\n",
       "  </tbody>\n",
       "</table>\n",
       "</div>"
      ],
      "text/plain": [
       "   mean_fit_time  mean_score_time  mean_test_score  mean_train_score param_C  \\\n",
       "0       0.002667         0.000000            0.931          0.932498       1   \n",
       "1       0.001333         0.000000            0.931          0.932498       1   \n",
       "2       0.002667         0.000333            0.931          0.932998       2   \n",
       "3       0.001333         0.000000            0.931          0.932999       2   \n",
       "4       0.005333         0.000000            0.931          0.932999       3   \n",
       "5       0.002667         0.000000            0.931          0.932999       3   \n",
       "6       0.002667         0.000000            0.931          0.932999       4   \n",
       "7       0.000000         0.000000            0.931          0.932999       4   \n",
       "\n",
       "  param_penalty                        params  rank_test_score  \\\n",
       "0            l1  {u'penalty': u'l1', u'C': 1}                1   \n",
       "1            l2  {u'penalty': u'l2', u'C': 1}                1   \n",
       "2            l1  {u'penalty': u'l1', u'C': 2}                1   \n",
       "3            l2  {u'penalty': u'l2', u'C': 2}                1   \n",
       "4            l1  {u'penalty': u'l1', u'C': 3}                1   \n",
       "5            l2  {u'penalty': u'l2', u'C': 3}                1   \n",
       "6            l1  {u'penalty': u'l1', u'C': 4}                1   \n",
       "7            l2  {u'penalty': u'l2', u'C': 4}                1   \n",
       "\n",
       "   split0_test_score  split0_train_score  split1_test_score  \\\n",
       "0           0.937126            0.927928           0.930931   \n",
       "1           0.937126            0.929429           0.930931   \n",
       "2           0.937126            0.929429           0.930931   \n",
       "3           0.937126            0.930931           0.930931   \n",
       "4           0.937126            0.930931           0.930931   \n",
       "5           0.937126            0.930931           0.930931   \n",
       "6           0.937126            0.930931           0.930931   \n",
       "7           0.937126            0.930931           0.930931   \n",
       "\n",
       "   split1_train_score  split2_test_score  split2_train_score  std_fit_time  \\\n",
       "0            0.935532           0.924925            0.934033      0.001886   \n",
       "1            0.935532           0.924925            0.932534      0.001886   \n",
       "2            0.935532           0.924925            0.934033      0.001247   \n",
       "3            0.935532           0.924925            0.932534      0.001886   \n",
       "4            0.935532           0.924925            0.932534      0.001886   \n",
       "5            0.935532           0.924925            0.932534      0.001886   \n",
       "6            0.935532           0.924925            0.932534      0.001886   \n",
       "7            0.935532           0.924925            0.932534      0.000000   \n",
       "\n",
       "   std_score_time  std_test_score  std_train_score  \n",
       "0        0.000000        0.004982         0.003289  \n",
       "1        0.000000        0.004982         0.002492  \n",
       "2        0.000471        0.004982         0.002597  \n",
       "3        0.000000        0.004982         0.001907  \n",
       "4        0.000000        0.004982         0.001907  \n",
       "5        0.000000        0.004982         0.001907  \n",
       "6        0.000000        0.004982         0.001907  \n",
       "7        0.000000        0.004982         0.001907  "
      ]
     },
     "execution_count": 48,
     "metadata": {},
     "output_type": "execute_result"
    }
   ],
   "source": [
    "# 用数据框形式展示\n",
    "DataFrame(gs.cv_results_)"
   ]
  },
  {
   "cell_type": "code",
   "execution_count": 49,
   "metadata": {
    "collapsed": false
   },
   "outputs": [
    {
     "data": {
      "text/plain": [
       "LogisticRegression(C=1, class_weight='balanced', dual=False,\n",
       "          fit_intercept=True, intercept_scaling=1, max_iter=100,\n",
       "          multi_class='ovr', n_jobs=1, penalty='l1', random_state=None,\n",
       "          solver='liblinear', tol=0.0001, verbose=0, warm_start=False)"
      ]
     },
     "execution_count": 49,
     "metadata": {},
     "output_type": "execute_result"
    }
   ],
   "source": [
    "# 返回最优的模型\n",
    "gs.best_estimator_"
   ]
  },
  {
   "cell_type": "markdown",
   "metadata": {},
   "source": [
    "## RandomizedSearch"
   ]
  },
  {
   "cell_type": "code",
   "execution_count": 50,
   "metadata": {
    "collapsed": true
   },
   "outputs": [],
   "source": [
    "# 生成RandomizedSearch的参数空间\n",
    "import scipy.stats as st\n",
    "import numpy as np\n",
    "\n",
    "# 参数是数值时，可以用分布而不是制定具体数值\n",
    "random_search_params = {\n",
    "    'penalty': ['l1', 'l2'],\n",
    "    'C': st.randint(1, 4)\n",
    "}"
   ]
  },
  {
   "cell_type": "code",
   "execution_count": 51,
   "metadata": {
    "collapsed": false
   },
   "outputs": [
    {
     "data": {
      "text/plain": [
       "RandomizedSearchCV(cv=None, error_score='raise',\n",
       "          estimator=LogisticRegression(C=1.0, class_weight='balanced', dual=False,\n",
       "          fit_intercept=True, intercept_scaling=1, max_iter=100,\n",
       "          multi_class='ovr', n_jobs=1, penalty='l2', random_state=None,\n",
       "          solver='liblinear', tol=0.0001, verbose=0, warm_start=False),\n",
       "          fit_params={}, iid=True, n_iter=10, n_jobs=1,\n",
       "          param_distributions={'penalty': ['l1', 'l2'], 'C': <scipy.stats._distn_infrastructure.rv_frozen object at 0x000000000B773278>},\n",
       "          pre_dispatch='2*n_jobs', random_state=None, refit=True,\n",
       "          return_train_score=True, scoring=None, verbose=0)"
      ]
     },
     "execution_count": 51,
     "metadata": {},
     "output_type": "execute_result"
    }
   ],
   "source": [
    "rs = RandomizedSearchCV(lr, random_search_params)\n",
    "rs.fit(X, y)"
   ]
  },
  {
   "cell_type": "code",
   "execution_count": 52,
   "metadata": {
    "collapsed": false
   },
   "outputs": [
    {
     "data": {
      "text/plain": [
       "{'mean_fit_time': array([ 0.00266671,  0.00400003,  0.00166663,  0.00100017,  0.0013334 ,\n",
       "         0.00399995,  0.00133332,  0.        ,  0.        ,  0.0013334 ]),\n",
       " 'mean_score_time': array([ 0.00133332,  0.        ,  0.00033339,  0.        ,  0.        ,\n",
       "         0.        ,  0.        ,  0.        ,  0.        ,  0.        ]),\n",
       " 'mean_test_score': array([ 0.931,  0.931,  0.931,  0.931,  0.931,  0.931,  0.931,  0.931,\n",
       "         0.931,  0.931]),\n",
       " 'mean_train_score': array([ 0.93299822,  0.93249772,  0.93299897,  0.93249847,  0.93249847,\n",
       "         0.93299897,  0.93249772,  0.93299897,  0.93249772,  0.93249847]),\n",
       " 'param_C': masked_array(data = [2 2 2 1 1 3 2 3 1 1],\n",
       "              mask = [False False False False False False False False False False],\n",
       "        fill_value = ?),\n",
       " 'param_penalty': masked_array(data = ['l1' 'l1' 'l2' 'l2' 'l2' 'l2' 'l1' 'l2' 'l1' 'l2'],\n",
       "              mask = [False False False False False False False False False False],\n",
       "        fill_value = ?),\n",
       " 'params': ({'C': 2, 'penalty': 'l1'},\n",
       "  {'C': 2, 'penalty': 'l1'},\n",
       "  {'C': 2, 'penalty': 'l2'},\n",
       "  {'C': 1, 'penalty': 'l2'},\n",
       "  {'C': 1, 'penalty': 'l2'},\n",
       "  {'C': 3, 'penalty': 'l2'},\n",
       "  {'C': 2, 'penalty': 'l1'},\n",
       "  {'C': 3, 'penalty': 'l2'},\n",
       "  {'C': 1, 'penalty': 'l1'},\n",
       "  {'C': 1, 'penalty': 'l2'}),\n",
       " 'rank_test_score': array([1, 1, 1, 1, 1, 1, 1, 1, 1, 1]),\n",
       " 'split0_test_score': array([ 0.93712575,  0.93712575,  0.93712575,  0.93712575,  0.93712575,\n",
       "         0.93712575,  0.93712575,  0.93712575,  0.93712575,  0.93712575]),\n",
       " 'split0_train_score': array([ 0.92942943,  0.92792793,  0.93093093,  0.92942943,  0.92942943,\n",
       "         0.93093093,  0.92792793,  0.93093093,  0.92792793,  0.92942943]),\n",
       " 'split1_test_score': array([ 0.93093093,  0.93093093,  0.93093093,  0.93093093,  0.93093093,\n",
       "         0.93093093,  0.93093093,  0.93093093,  0.93093093,  0.93093093]),\n",
       " 'split1_train_score': array([ 0.93553223,  0.93553223,  0.93553223,  0.93553223,  0.93553223,\n",
       "         0.93553223,  0.93553223,  0.93553223,  0.93553223,  0.93553223]),\n",
       " 'split2_test_score': array([ 0.92492492,  0.92492492,  0.92492492,  0.92492492,  0.92492492,\n",
       "         0.92492492,  0.92492492,  0.92492492,  0.92492492,  0.92492492]),\n",
       " 'split2_train_score': array([ 0.93403298,  0.93403298,  0.93253373,  0.93253373,  0.93253373,\n",
       "         0.93253373,  0.93403298,  0.93253373,  0.93403298,  0.93253373]),\n",
       " 'std_fit_time': array([ 0.00188565,  0.00326594,  0.00169966,  0.        ,  0.00188571,\n",
       "         0.        ,  0.00188559,  0.        ,  0.        ,  0.00188571]),\n",
       " 'std_score_time': array([ 0.00188559,  0.        ,  0.00047148,  0.        ,  0.        ,\n",
       "         0.        ,  0.        ,  0.        ,  0.        ,  0.        ]),\n",
       " 'std_test_score': array([ 0.00498244,  0.00498244,  0.00498244,  0.00498244,  0.00498244,\n",
       "         0.00498244,  0.00498244,  0.00498244,  0.00498244,  0.00498244]),\n",
       " 'std_train_score': array([ 0.00259668,  0.00328878,  0.00190706,  0.00249158,  0.00249158,\n",
       "         0.00190706,  0.00328878,  0.00190706,  0.00328878,  0.00249158])}"
      ]
     },
     "execution_count": 52,
     "metadata": {},
     "output_type": "execute_result"
    }
   ],
   "source": [
    "rs.cv_results_"
   ]
  },
  {
   "cell_type": "code",
   "execution_count": 53,
   "metadata": {
    "collapsed": false
   },
   "outputs": [
    {
     "data": {
      "text/html": [
       "<div>\n",
       "<table border=\"1\" class=\"dataframe\">\n",
       "  <thead>\n",
       "    <tr style=\"text-align: right;\">\n",
       "      <th></th>\n",
       "      <th>mean_fit_time</th>\n",
       "      <th>mean_score_time</th>\n",
       "      <th>mean_test_score</th>\n",
       "      <th>mean_train_score</th>\n",
       "      <th>param_C</th>\n",
       "      <th>param_penalty</th>\n",
       "      <th>params</th>\n",
       "      <th>rank_test_score</th>\n",
       "      <th>split0_test_score</th>\n",
       "      <th>split0_train_score</th>\n",
       "      <th>split1_test_score</th>\n",
       "      <th>split1_train_score</th>\n",
       "      <th>split2_test_score</th>\n",
       "      <th>split2_train_score</th>\n",
       "      <th>std_fit_time</th>\n",
       "      <th>std_score_time</th>\n",
       "      <th>std_test_score</th>\n",
       "      <th>std_train_score</th>\n",
       "    </tr>\n",
       "  </thead>\n",
       "  <tbody>\n",
       "    <tr>\n",
       "      <th>0</th>\n",
       "      <td>0.002667</td>\n",
       "      <td>0.001333</td>\n",
       "      <td>0.931</td>\n",
       "      <td>0.932998</td>\n",
       "      <td>2</td>\n",
       "      <td>l1</td>\n",
       "      <td>{u'penalty': u'l1', u'C': 2}</td>\n",
       "      <td>1</td>\n",
       "      <td>0.937126</td>\n",
       "      <td>0.929429</td>\n",
       "      <td>0.930931</td>\n",
       "      <td>0.935532</td>\n",
       "      <td>0.924925</td>\n",
       "      <td>0.934033</td>\n",
       "      <td>0.001886</td>\n",
       "      <td>0.001886</td>\n",
       "      <td>0.004982</td>\n",
       "      <td>0.002597</td>\n",
       "    </tr>\n",
       "    <tr>\n",
       "      <th>1</th>\n",
       "      <td>0.004000</td>\n",
       "      <td>0.000000</td>\n",
       "      <td>0.931</td>\n",
       "      <td>0.932498</td>\n",
       "      <td>2</td>\n",
       "      <td>l1</td>\n",
       "      <td>{u'penalty': u'l1', u'C': 2}</td>\n",
       "      <td>1</td>\n",
       "      <td>0.937126</td>\n",
       "      <td>0.927928</td>\n",
       "      <td>0.930931</td>\n",
       "      <td>0.935532</td>\n",
       "      <td>0.924925</td>\n",
       "      <td>0.934033</td>\n",
       "      <td>0.003266</td>\n",
       "      <td>0.000000</td>\n",
       "      <td>0.004982</td>\n",
       "      <td>0.003289</td>\n",
       "    </tr>\n",
       "    <tr>\n",
       "      <th>2</th>\n",
       "      <td>0.001667</td>\n",
       "      <td>0.000333</td>\n",
       "      <td>0.931</td>\n",
       "      <td>0.932999</td>\n",
       "      <td>2</td>\n",
       "      <td>l2</td>\n",
       "      <td>{u'penalty': u'l2', u'C': 2}</td>\n",
       "      <td>1</td>\n",
       "      <td>0.937126</td>\n",
       "      <td>0.930931</td>\n",
       "      <td>0.930931</td>\n",
       "      <td>0.935532</td>\n",
       "      <td>0.924925</td>\n",
       "      <td>0.932534</td>\n",
       "      <td>0.001700</td>\n",
       "      <td>0.000471</td>\n",
       "      <td>0.004982</td>\n",
       "      <td>0.001907</td>\n",
       "    </tr>\n",
       "    <tr>\n",
       "      <th>3</th>\n",
       "      <td>0.001000</td>\n",
       "      <td>0.000000</td>\n",
       "      <td>0.931</td>\n",
       "      <td>0.932498</td>\n",
       "      <td>1</td>\n",
       "      <td>l2</td>\n",
       "      <td>{u'penalty': u'l2', u'C': 1}</td>\n",
       "      <td>1</td>\n",
       "      <td>0.937126</td>\n",
       "      <td>0.929429</td>\n",
       "      <td>0.930931</td>\n",
       "      <td>0.935532</td>\n",
       "      <td>0.924925</td>\n",
       "      <td>0.932534</td>\n",
       "      <td>0.000000</td>\n",
       "      <td>0.000000</td>\n",
       "      <td>0.004982</td>\n",
       "      <td>0.002492</td>\n",
       "    </tr>\n",
       "    <tr>\n",
       "      <th>4</th>\n",
       "      <td>0.001333</td>\n",
       "      <td>0.000000</td>\n",
       "      <td>0.931</td>\n",
       "      <td>0.932498</td>\n",
       "      <td>1</td>\n",
       "      <td>l2</td>\n",
       "      <td>{u'penalty': u'l2', u'C': 1}</td>\n",
       "      <td>1</td>\n",
       "      <td>0.937126</td>\n",
       "      <td>0.929429</td>\n",
       "      <td>0.930931</td>\n",
       "      <td>0.935532</td>\n",
       "      <td>0.924925</td>\n",
       "      <td>0.932534</td>\n",
       "      <td>0.001886</td>\n",
       "      <td>0.000000</td>\n",
       "      <td>0.004982</td>\n",
       "      <td>0.002492</td>\n",
       "    </tr>\n",
       "    <tr>\n",
       "      <th>5</th>\n",
       "      <td>0.004000</td>\n",
       "      <td>0.000000</td>\n",
       "      <td>0.931</td>\n",
       "      <td>0.932999</td>\n",
       "      <td>3</td>\n",
       "      <td>l2</td>\n",
       "      <td>{u'penalty': u'l2', u'C': 3}</td>\n",
       "      <td>1</td>\n",
       "      <td>0.937126</td>\n",
       "      <td>0.930931</td>\n",
       "      <td>0.930931</td>\n",
       "      <td>0.935532</td>\n",
       "      <td>0.924925</td>\n",
       "      <td>0.932534</td>\n",
       "      <td>0.000000</td>\n",
       "      <td>0.000000</td>\n",
       "      <td>0.004982</td>\n",
       "      <td>0.001907</td>\n",
       "    </tr>\n",
       "    <tr>\n",
       "      <th>6</th>\n",
       "      <td>0.001333</td>\n",
       "      <td>0.000000</td>\n",
       "      <td>0.931</td>\n",
       "      <td>0.932498</td>\n",
       "      <td>2</td>\n",
       "      <td>l1</td>\n",
       "      <td>{u'penalty': u'l1', u'C': 2}</td>\n",
       "      <td>1</td>\n",
       "      <td>0.937126</td>\n",
       "      <td>0.927928</td>\n",
       "      <td>0.930931</td>\n",
       "      <td>0.935532</td>\n",
       "      <td>0.924925</td>\n",
       "      <td>0.934033</td>\n",
       "      <td>0.001886</td>\n",
       "      <td>0.000000</td>\n",
       "      <td>0.004982</td>\n",
       "      <td>0.003289</td>\n",
       "    </tr>\n",
       "    <tr>\n",
       "      <th>7</th>\n",
       "      <td>0.000000</td>\n",
       "      <td>0.000000</td>\n",
       "      <td>0.931</td>\n",
       "      <td>0.932999</td>\n",
       "      <td>3</td>\n",
       "      <td>l2</td>\n",
       "      <td>{u'penalty': u'l2', u'C': 3}</td>\n",
       "      <td>1</td>\n",
       "      <td>0.937126</td>\n",
       "      <td>0.930931</td>\n",
       "      <td>0.930931</td>\n",
       "      <td>0.935532</td>\n",
       "      <td>0.924925</td>\n",
       "      <td>0.932534</td>\n",
       "      <td>0.000000</td>\n",
       "      <td>0.000000</td>\n",
       "      <td>0.004982</td>\n",
       "      <td>0.001907</td>\n",
       "    </tr>\n",
       "    <tr>\n",
       "      <th>8</th>\n",
       "      <td>0.000000</td>\n",
       "      <td>0.000000</td>\n",
       "      <td>0.931</td>\n",
       "      <td>0.932498</td>\n",
       "      <td>1</td>\n",
       "      <td>l1</td>\n",
       "      <td>{u'penalty': u'l1', u'C': 1}</td>\n",
       "      <td>1</td>\n",
       "      <td>0.937126</td>\n",
       "      <td>0.927928</td>\n",
       "      <td>0.930931</td>\n",
       "      <td>0.935532</td>\n",
       "      <td>0.924925</td>\n",
       "      <td>0.934033</td>\n",
       "      <td>0.000000</td>\n",
       "      <td>0.000000</td>\n",
       "      <td>0.004982</td>\n",
       "      <td>0.003289</td>\n",
       "    </tr>\n",
       "    <tr>\n",
       "      <th>9</th>\n",
       "      <td>0.001333</td>\n",
       "      <td>0.000000</td>\n",
       "      <td>0.931</td>\n",
       "      <td>0.932498</td>\n",
       "      <td>1</td>\n",
       "      <td>l2</td>\n",
       "      <td>{u'penalty': u'l2', u'C': 1}</td>\n",
       "      <td>1</td>\n",
       "      <td>0.937126</td>\n",
       "      <td>0.929429</td>\n",
       "      <td>0.930931</td>\n",
       "      <td>0.935532</td>\n",
       "      <td>0.924925</td>\n",
       "      <td>0.932534</td>\n",
       "      <td>0.001886</td>\n",
       "      <td>0.000000</td>\n",
       "      <td>0.004982</td>\n",
       "      <td>0.002492</td>\n",
       "    </tr>\n",
       "  </tbody>\n",
       "</table>\n",
       "</div>"
      ],
      "text/plain": [
       "   mean_fit_time  mean_score_time  mean_test_score  mean_train_score param_C  \\\n",
       "0       0.002667         0.001333            0.931          0.932998       2   \n",
       "1       0.004000         0.000000            0.931          0.932498       2   \n",
       "2       0.001667         0.000333            0.931          0.932999       2   \n",
       "3       0.001000         0.000000            0.931          0.932498       1   \n",
       "4       0.001333         0.000000            0.931          0.932498       1   \n",
       "5       0.004000         0.000000            0.931          0.932999       3   \n",
       "6       0.001333         0.000000            0.931          0.932498       2   \n",
       "7       0.000000         0.000000            0.931          0.932999       3   \n",
       "8       0.000000         0.000000            0.931          0.932498       1   \n",
       "9       0.001333         0.000000            0.931          0.932498       1   \n",
       "\n",
       "  param_penalty                        params  rank_test_score  \\\n",
       "0            l1  {u'penalty': u'l1', u'C': 2}                1   \n",
       "1            l1  {u'penalty': u'l1', u'C': 2}                1   \n",
       "2            l2  {u'penalty': u'l2', u'C': 2}                1   \n",
       "3            l2  {u'penalty': u'l2', u'C': 1}                1   \n",
       "4            l2  {u'penalty': u'l2', u'C': 1}                1   \n",
       "5            l2  {u'penalty': u'l2', u'C': 3}                1   \n",
       "6            l1  {u'penalty': u'l1', u'C': 2}                1   \n",
       "7            l2  {u'penalty': u'l2', u'C': 3}                1   \n",
       "8            l1  {u'penalty': u'l1', u'C': 1}                1   \n",
       "9            l2  {u'penalty': u'l2', u'C': 1}                1   \n",
       "\n",
       "   split0_test_score  split0_train_score  split1_test_score  \\\n",
       "0           0.937126            0.929429           0.930931   \n",
       "1           0.937126            0.927928           0.930931   \n",
       "2           0.937126            0.930931           0.930931   \n",
       "3           0.937126            0.929429           0.930931   \n",
       "4           0.937126            0.929429           0.930931   \n",
       "5           0.937126            0.930931           0.930931   \n",
       "6           0.937126            0.927928           0.930931   \n",
       "7           0.937126            0.930931           0.930931   \n",
       "8           0.937126            0.927928           0.930931   \n",
       "9           0.937126            0.929429           0.930931   \n",
       "\n",
       "   split1_train_score  split2_test_score  split2_train_score  std_fit_time  \\\n",
       "0            0.935532           0.924925            0.934033      0.001886   \n",
       "1            0.935532           0.924925            0.934033      0.003266   \n",
       "2            0.935532           0.924925            0.932534      0.001700   \n",
       "3            0.935532           0.924925            0.932534      0.000000   \n",
       "4            0.935532           0.924925            0.932534      0.001886   \n",
       "5            0.935532           0.924925            0.932534      0.000000   \n",
       "6            0.935532           0.924925            0.934033      0.001886   \n",
       "7            0.935532           0.924925            0.932534      0.000000   \n",
       "8            0.935532           0.924925            0.934033      0.000000   \n",
       "9            0.935532           0.924925            0.932534      0.001886   \n",
       "\n",
       "   std_score_time  std_test_score  std_train_score  \n",
       "0        0.001886        0.004982         0.002597  \n",
       "1        0.000000        0.004982         0.003289  \n",
       "2        0.000471        0.004982         0.001907  \n",
       "3        0.000000        0.004982         0.002492  \n",
       "4        0.000000        0.004982         0.002492  \n",
       "5        0.000000        0.004982         0.001907  \n",
       "6        0.000000        0.004982         0.003289  \n",
       "7        0.000000        0.004982         0.001907  \n",
       "8        0.000000        0.004982         0.003289  \n",
       "9        0.000000        0.004982         0.002492  "
      ]
     },
     "execution_count": 53,
     "metadata": {},
     "output_type": "execute_result"
    }
   ],
   "source": [
    "# 用数据框形式展示\n",
    "DataFrame(rs.cv_results_)"
   ]
  },
  {
   "cell_type": "code",
   "execution_count": 54,
   "metadata": {
    "collapsed": false
   },
   "outputs": [
    {
     "data": {
      "text/plain": [
       "LogisticRegression(C=2, class_weight='balanced', dual=False,\n",
       "          fit_intercept=True, intercept_scaling=1, max_iter=100,\n",
       "          multi_class='ovr', n_jobs=1, penalty='l1', random_state=None,\n",
       "          solver='liblinear', tol=0.0001, verbose=0, warm_start=False)"
      ]
     },
     "execution_count": 54,
     "metadata": {},
     "output_type": "execute_result"
    }
   ],
   "source": [
    "# 返回最优的模型\n",
    "rs.best_estimator_"
   ]
  },
  {
   "cell_type": "raw",
   "metadata": {},
   "source": []
  },
  {
   "cell_type": "markdown",
   "metadata": {},
   "source": [
    "# 用虚拟模型建立baseline\n",
    "DummyRegressor类和DummyClassifier类"
   ]
  },
  {
   "cell_type": "code",
   "execution_count": 55,
   "metadata": {
    "collapsed": true
   },
   "outputs": [],
   "source": [
    "from sklearn import dummy"
   ]
  },
  {
   "cell_type": "markdown",
   "metadata": {},
   "source": [
    "## 回归"
   ]
  },
  {
   "cell_type": "code",
   "execution_count": 56,
   "metadata": {
    "collapsed": true
   },
   "outputs": [],
   "source": [
    "# 创建回归数据集\n",
    "from sklearn.datasets import make_regression\n",
    "X, y = make_regression()"
   ]
  },
  {
   "cell_type": "code",
   "execution_count": 57,
   "metadata": {
    "collapsed": false
   },
   "outputs": [
    {
     "data": {
      "text/plain": [
       "DummyRegressor(constant=None, quantile=None, strategy='mean')"
      ]
     },
     "execution_count": 57,
     "metadata": {},
     "output_type": "execute_result"
    }
   ],
   "source": [
    "dumdum = dummy.DummyRegressor()\n",
    "dumdum.fit(X, y)"
   ]
  },
  {
   "cell_type": "code",
   "execution_count": 58,
   "metadata": {
    "collapsed": false
   },
   "outputs": [
    {
     "data": {
      "text/plain": [
       "array([-15.50396099, -15.50396099, -15.50396099, -15.50396099, -15.50396099])"
      ]
     },
     "execution_count": 58,
     "metadata": {},
     "output_type": "execute_result"
    }
   ],
   "source": [
    "dumdum.predict(X)[:5] # 默认情况下，虚拟模型用均值进行预测"
   ]
  },
  {
   "cell_type": "code",
   "execution_count": 59,
   "metadata": {
    "collapsed": false,
    "scrolled": false
   },
   "outputs": [
    {
     "name": "stdout",
     "output_type": "stream",
     "text": [
      "stragegy: mean -15.5039609856,-15.5039609856,-15.5039609856,-15.5039609856,-15.5039609856\n",
      "stragegy: median -3.49482464648,-3.49482464648,-3.49482464648,-3.49482464648,-3.49482464648\n",
      "stragegy: constant 10.0,10.0,10.0,10.0,10.0\n"
     ]
    }
   ],
   "source": [
    "# 有3种预测方式：均值、中位数、常数，选择常数预测方式时，需要指定用来预测的常数\n",
    "predictors = [(\"mean\", None),\n",
    "              (\"median\", None),\n",
    "              (\"constant\", 10)]\n",
    "\n",
    "for strategy, constant in predictors:\n",
    "    dumdum = dummy.DummyRegressor(strategy=strategy, constant=constant)\n",
    "    dumdum.fit(X, y)\n",
    "    \n",
    "    print \"stragegy: {}\".format(strategy), \",\".join(map(str, dumdum.predict(X)[:5]))"
   ]
  },
  {
   "cell_type": "markdown",
   "metadata": {},
   "source": [
    "## 分类"
   ]
  },
  {
   "cell_type": "code",
   "execution_count": 60,
   "metadata": {
    "collapsed": true
   },
   "outputs": [],
   "source": [
    "# 创建分类数据集\n",
    "from sklearn.datasets import make_classification\n",
    "X, y = make_classification()"
   ]
  },
  {
   "cell_type": "code",
   "execution_count": 61,
   "metadata": {
    "collapsed": true
   },
   "outputs": [],
   "source": [
    "predictors = [(\"constant\", 0),\n",
    "              (\"stratified\", None),\n",
    "              (\"uniform\", None),\n",
    "              (\"most_frequent\", None)]"
   ]
  },
  {
   "cell_type": "code",
   "execution_count": 62,
   "metadata": {
    "collapsed": false
   },
   "outputs": [
    {
     "name": "stdout",
     "output_type": "stream",
     "text": [
      "stragegy: constant 0,0,0,0,0\n",
      "stragegy: stratified 0,0,0,0,0\n",
      "stragegy: uniform 1,0,0,1,0\n",
      "stragegy: most_frequent 0,0,0,0,0\n"
     ]
    }
   ],
   "source": [
    "# 有3种预测方式\n",
    "for strategy, constant in predictors:\n",
    "    dumdum = dummy.DummyClassifier(strategy=strategy, constant=constant)\n",
    "    dumdum.fit(X, y)\n",
    "    \n",
    "    print \"stragegy: {}\".format(strategy), \",\".join(map(str, dumdum.predict(X)[:5]))"
   ]
  },
  {
   "cell_type": "markdown",
   "metadata": {},
   "source": [
    "## baseline\n",
    "虚拟回归的作用是建立一个baseline，用后续建立的模型与之进行对比"
   ]
  },
  {
   "cell_type": "code",
   "execution_count": 63,
   "metadata": {
    "collapsed": false
   },
   "outputs": [],
   "source": [
    "# 创建不平衡的分类数据集\n",
    "X, y = make_classification(20000, weights=[.95, .05])"
   ]
  },
  {
   "cell_type": "code",
   "execution_count": 64,
   "metadata": {
    "collapsed": false
   },
   "outputs": [
    {
     "data": {
      "text/plain": [
       "DummyClassifier(constant=None, random_state=None, strategy='most_frequent')"
      ]
     },
     "execution_count": 64,
     "metadata": {},
     "output_type": "execute_result"
    }
   ],
   "source": [
    "# 将所有测试集中样本预测为多类，从而得到一个baseline\n",
    "dumdum = dummy.DummyClassifier(strategy='most_frequent')\n",
    "dumdum.fit(X, y)"
   ]
  },
  {
   "cell_type": "code",
   "execution_count": 65,
   "metadata": {
    "collapsed": false
   },
   "outputs": [
    {
     "name": "stdout",
     "output_type": "stream",
     "text": [
      "0.9456\n"
     ]
    }
   ],
   "source": [
    "# 后续建立的模型，只有效果比baseline更好，才有意义\n",
    "\n",
    "from sklearn.metrics import accuracy_score\n",
    "print accuracy_score(y, dumdum.predict(X))"
   ]
  },
  {
   "cell_type": "raw",
   "metadata": {},
   "source": []
  },
  {
   "cell_type": "markdown",
   "metadata": {},
   "source": [
    "# 评估回归模型\n",
    "$MSE$：metrics.mean_squared_error类、$MAD$：mean_absolute_error类、$R^2$：r2_score类"
   ]
  },
  {
   "cell_type": "code",
   "execution_count": 66,
   "metadata": {
    "collapsed": true
   },
   "outputs": [],
   "source": [
    "# 数据生产过程\n",
    "m = 2\n",
    "b = 1\n",
    "\n",
    "y = lambda x: m*x+b"
   ]
  },
  {
   "cell_type": "code",
   "execution_count": 67,
   "metadata": {
    "collapsed": true
   },
   "outputs": [],
   "source": [
    "# 预测值生产过程\n",
    "def data(x, m=2, b=1, e=None, s=10):\n",
    "    \"\"\"  \n",
    "    Args:\n",
    "        x: The x value\n",
    "        m: Slope\n",
    "        b: Intercept\n",
    "        e: Error, optional, True will give\n",
    "            random error\n",
    "    \"\"\"\n",
    "    \n",
    "    if e is None:\n",
    "        e_i = 0\n",
    "    elif e is True:\n",
    "        e_i = np.random.normal(0, s, len(xs))\n",
    "    else:\n",
    "        e_i = e\n",
    "    \n",
    "    return x * m + b + e_i"
   ]
  },
  {
   "cell_type": "code",
   "execution_count": 68,
   "metadata": {
    "collapsed": true
   },
   "outputs": [],
   "source": [
    "from functools import partial"
   ]
  },
  {
   "cell_type": "code",
   "execution_count": 69,
   "metadata": {
    "collapsed": true
   },
   "outputs": [],
   "source": [
    "N = 100\n",
    "xs = np.sort(np.random.rand(N)*100)"
   ]
  },
  {
   "cell_type": "code",
   "execution_count": 70,
   "metadata": {
    "collapsed": true
   },
   "outputs": [],
   "source": [
    "# 生成y的真实值和预测值\n",
    "y_pred_gen = partial(data, x=xs, e=True)\n",
    "y_true_gen = partial(data, x=xs)\n",
    "\n",
    "y_pred = y_pred_gen()\n",
    "y_true = y_true_gen()"
   ]
  },
  {
   "cell_type": "code",
   "execution_count": 71,
   "metadata": {
    "collapsed": false
   },
   "outputs": [
    {
     "data": {
      "image/png": "[encoded data removed]",
      "text/plain": [
       "<matplotlib.figure.Figure at 0xb767438>"
      ]
     },
     "metadata": {},
     "output_type": "display_data"
    }
   ],
   "source": [
    "# 点为预测值，直线是数据生成过程，表示真实值\n",
    "f, ax = plt.subplots(figsize=(7, 5))\n",
    "\n",
    "ax.set_title(\"Plotting the fit vs the underlying process.\")\n",
    "ax.scatter(xs, y_pred, label=r'$\\hat{y}$')\n",
    "ax.plot(xs, y_true, label=r'$y$')\n",
    "\n",
    "ax.legend(loc=2);"
   ]
  },
  {
   "cell_type": "code",
   "execution_count": 72,
   "metadata": {
    "collapsed": true
   },
   "outputs": [],
   "source": [
    "# 残差\n",
    "e_hat = y_pred - y_true"
   ]
  },
  {
   "cell_type": "code",
   "execution_count": 73,
   "metadata": {
    "collapsed": false
   },
   "outputs": [
    {
     "data": {
      "image/png": "[encoded data removed]",
      "text/plain": [
       "<matplotlib.figure.Figure at 0xb6e8cc0>"
      ]
     },
     "metadata": {},
     "output_type": "display_data"
    }
   ],
   "source": [
    "f, ax = plt.subplots(figsize=(7, 5))\n",
    "\n",
    "ax.set_title(\"Residuals\")\n",
    "ax.hist(e_hat, color='r', alpha=.5, histtype='stepfilled');"
   ]
  },
  {
   "cell_type": "markdown",
   "metadata": {},
   "source": [
    "MSE:\n",
    "$$MSE(y_{true}, y_{pred}) = E((y_{true} - y_{pred})^2)$$"
   ]
  },
  {
   "cell_type": "code",
   "execution_count": 74,
   "metadata": {
    "collapsed": false
   },
   "outputs": [
    {
     "data": {
      "text/plain": [
       "118.68683999237582"
      ]
     },
     "execution_count": 74,
     "metadata": {},
     "output_type": "execute_result"
    }
   ],
   "source": [
    "from sklearn import metrics\n",
    "metrics.mean_squared_error(y_true, y_pred)"
   ]
  },
  {
   "cell_type": "markdown",
   "metadata": {},
   "source": [
    "MAD:\n",
    "$$MAD(y_{true}, y_{pred}) = E(|y_{true} - y_{pred}|)$$"
   ]
  },
  {
   "cell_type": "code",
   "execution_count": 75,
   "metadata": {
    "collapsed": false
   },
   "outputs": [
    {
     "data": {
      "text/plain": [
       "8.7127109268435632"
      ]
     },
     "execution_count": 75,
     "metadata": {},
     "output_type": "execute_result"
    }
   ],
   "source": [
    "metrics.mean_absolute_error(y_true, y_pred)"
   ]
  },
  {
   "cell_type": "markdown",
   "metadata": {},
   "source": [
    "$R^2$: 1 minus the ratio of squared errors for the overall mean and the fit model.  As the ratio tends to 0 the $R^2$ tends to 1."
   ]
  },
  {
   "cell_type": "code",
   "execution_count": 76,
   "metadata": {
    "collapsed": false
   },
   "outputs": [
    {
     "data": {
      "text/plain": [
       "0.96755752170232923"
      ]
     },
     "execution_count": 76,
     "metadata": {},
     "output_type": "execute_result"
    }
   ],
   "source": [
    "metrics.r2_score(y_true, y_pred)"
   ]
  },
  {
   "cell_type": "raw",
   "metadata": {},
   "source": []
  },
  {
   "cell_type": "markdown",
   "metadata": {},
   "source": [
    "# 特征选择\n",
    "feature_selection.f_regression类和feature_selection.VarianceThreshold类"
   ]
  },
  {
   "cell_type": "code",
   "execution_count": 77,
   "metadata": {
    "collapsed": true
   },
   "outputs": [],
   "source": [
    "from sklearn import feature_selection"
   ]
  },
  {
   "cell_type": "code",
   "execution_count": 78,
   "metadata": {
    "collapsed": true
   },
   "outputs": [],
   "source": [
    "# 创建回归数据集，1000个样本，10000个特征\n",
    "from sklearn import datasets\n",
    "X, y = datasets.make_regression(1000, 10000)"
   ]
  },
  {
   "cell_type": "markdown",
   "metadata": {},
   "source": [
    "## F值和p值"
   ]
  },
  {
   "cell_type": "code",
   "execution_count": 79,
   "metadata": {
    "collapsed": true
   },
   "outputs": [],
   "source": [
    "# f和p是做一元回归时，各个特征的F值和p值\n",
    "f, p = feature_selection.f_regression(X, y)"
   ]
  },
  {
   "cell_type": "code",
   "execution_count": 80,
   "metadata": {
    "collapsed": false
   },
   "outputs": [
    {
     "data": {
      "text/plain": [
       "array([  0.04435572,  12.3688407 ,   0.46792049,   0.6075195 ,   0.44867836])"
      ]
     },
     "execution_count": 80,
     "metadata": {},
     "output_type": "execute_result"
    }
   ],
   "source": [
    "f[:5]"
   ]
  },
  {
   "cell_type": "code",
   "execution_count": 81,
   "metadata": {
    "collapsed": false
   },
   "outputs": [
    {
     "data": {
      "text/plain": [
       "array([  8.33236185e-01,   4.56205022e-04,   4.94104198e-01,\n",
       "         4.35908083e-01,   5.03118195e-01])"
      ]
     },
     "execution_count": 81,
     "metadata": {},
     "output_type": "execute_result"
    }
   ],
   "source": [
    "p[:5]"
   ]
  },
  {
   "cell_type": "code",
   "execution_count": 82,
   "metadata": {
    "collapsed": false
   },
   "outputs": [
    {
     "data": {
      "text/plain": [
       "553"
      ]
     },
     "execution_count": 82,
     "metadata": {},
     "output_type": "execute_result"
    }
   ],
   "source": [
    "# 只保留p值小于0.05的特征\n",
    "idx = np.arange(0, X.shape[1])\n",
    "features_to_keep = idx[p < .05]\n",
    "len(features_to_keep)"
   ]
  },
  {
   "cell_type": "markdown",
   "metadata": {},
   "source": [
    "## 数据的变异程度\n",
    "变异程度（方差）大的特征包含更多的信息，且由于这种方法只考虑X而不需要y，因而可用于非监督学习"
   ]
  },
  {
   "cell_type": "code",
   "execution_count": 83,
   "metadata": {
    "collapsed": true
   },
   "outputs": [],
   "source": [
    "var_threshold = feature_selection.VarianceThreshold(np.median(np.var(X, axis=1)))"
   ]
  },
  {
   "cell_type": "code",
   "execution_count": 84,
   "metadata": {
    "collapsed": false
   },
   "outputs": [
    {
     "data": {
      "text/plain": [
       "(1000L, 4877L)"
      ]
     },
     "execution_count": 84,
     "metadata": {},
     "output_type": "execute_result"
    }
   ],
   "source": [
    "var_threshold.fit_transform(X).shape"
   ]
  },
  {
   "cell_type": "markdown",
   "metadata": {},
   "source": [
    "## 示例"
   ]
  },
  {
   "cell_type": "code",
   "execution_count": 85,
   "metadata": {
    "collapsed": true
   },
   "outputs": [],
   "source": [
    "# 只有20个特征，便于可视化\n",
    "X, y = datasets.make_regression(10000, 20)"
   ]
  },
  {
   "cell_type": "code",
   "execution_count": 86,
   "metadata": {
    "collapsed": true
   },
   "outputs": [],
   "source": [
    "f, p = feature_selection.f_regression(X, y)"
   ]
  },
  {
   "cell_type": "code",
   "execution_count": 87,
   "metadata": {
    "collapsed": false
   },
   "outputs": [
    {
     "data": {
      "image/png": "[encoded data removed]",
      "text/plain": [
       "<matplotlib.figure.Figure at 0xae83d68>"
      ]
     },
     "metadata": {},
     "output_type": "display_data"
    }
   ],
   "source": [
    "# 只有部分特征的p值显著\n",
    "f, ax = plt.subplots(figsize=(7, 5))\n",
    "\n",
    "ax.bar(np.arange(20), p, color='k')\n",
    "ax.set_title(\"Feature p values\");"
   ]
  },
  {
   "cell_type": "raw",
   "metadata": {},
   "source": []
  },
  {
   "cell_type": "markdown",
   "metadata": {},
   "source": [
    "# L1特征选择\n",
    "LassoCV类"
   ]
  },
  {
   "cell_type": "code",
   "execution_count": 88,
   "metadata": {
    "collapsed": true
   },
   "outputs": [],
   "source": [
    "from sklearn import feature_selection"
   ]
  },
  {
   "cell_type": "code",
   "execution_count": 89,
   "metadata": {
    "collapsed": true
   },
   "outputs": [],
   "source": [
    "# 载入diabetes数据集\n",
    "import sklearn.datasets\n",
    "diabetes = datasets.load_diabetes()"
   ]
  },
  {
   "cell_type": "code",
   "execution_count": 90,
   "metadata": {
    "collapsed": true
   },
   "outputs": [],
   "source": [
    "# 建立logistics模型\n",
    "from sklearn import linear_model\n",
    "lr = linear_model.LinearRegression()"
   ]
  },
  {
   "cell_type": "code",
   "execution_count": 91,
   "metadata": {
    "collapsed": true
   },
   "outputs": [],
   "source": [
    "from sklearn import metrics\n",
    "from sklearn import model_selection\n",
    "shuff = model_selection.ShuffleSplit()"
   ]
  },
  {
   "cell_type": "code",
   "execution_count": 92,
   "metadata": {
    "collapsed": false
   },
   "outputs": [
    {
     "data": {
      "text/plain": [
       "2880.4424441782653"
      ]
     },
     "execution_count": 92,
     "metadata": {},
     "output_type": "execute_result"
    }
   ],
   "source": [
    "# 用随机交叉验证，求出模型的MSE\n",
    "mses = []\n",
    "for train, test in shuff.split(diabetes.data):\n",
    "    train_X = diabetes.data[train]\n",
    "    train_y = diabetes.target[train]\n",
    "    \n",
    "    test_X = diabetes.data[~train]\n",
    "    test_y = diabetes.target[~train]\n",
    "    \n",
    "    lr.fit(train_X, train_y)\n",
    "    \n",
    "    mses.append(metrics.mean_squared_error(test_y, lr.predict(test_X)))\n",
    "    \n",
    "np.mean(mses)"
   ]
  },
  {
   "cell_type": "code",
   "execution_count": 93,
   "metadata": {
    "collapsed": false
   },
   "outputs": [
    {
     "data": {
      "text/plain": [
       "array([  -0.        , -226.2375274 ,  526.85738059,  314.44026013,\n",
       "       -196.92164002,    1.48742026, -151.78054083,  106.52846989,\n",
       "        530.58541123,   64.50588257])"
      ]
     },
     "execution_count": 93,
     "metadata": {},
     "output_type": "execute_result"
    }
   ],
   "source": [
    "cv = linear_model.LassoCV()\n",
    "cv.fit(diabetes.data, diabetes.target)\n",
    "cv.coef_"
   ]
  },
  {
   "cell_type": "code",
   "execution_count": 94,
   "metadata": {
    "collapsed": false
   },
   "outputs": [
    {
     "data": {
      "text/plain": [
       "array([1, 2, 3, 4, 5, 6, 7, 8, 9], dtype=int64)"
      ]
     },
     "execution_count": 94,
     "metadata": {},
     "output_type": "execute_result"
    }
   ],
   "source": [
    "# 找出系数非0的特征索引\n",
    "columns = np.arange(diabetes.data.shape[1])[cv.coef_ != 0]\n",
    "columns"
   ]
  },
  {
   "cell_type": "code",
   "execution_count": 95,
   "metadata": {
    "collapsed": false
   },
   "outputs": [
    {
     "data": {
      "text/plain": [
       "2854.9866837375889"
      ]
     },
     "execution_count": 95,
     "metadata": {},
     "output_type": "execute_result"
    }
   ],
   "source": [
    "# 用随机交叉验证，求出特征选择后模型的MSE\n",
    "l1mses = []\n",
    "\n",
    "for train, test in shuff.split(diabetes.data):\n",
    "    train_X = diabetes.data[train][:, columns]\n",
    "    train_y = diabetes.target[train]\n",
    "    \n",
    "    test_X = diabetes.data[~train][:, columns]\n",
    "    test_y = diabetes.target[~train]\n",
    "    \n",
    "    lr.fit(train_X, train_y)\n",
    "    \n",
    "    l1mses.append(metrics.mean_squared_error(test_y, lr.predict(test_X)))\n",
    "\n",
    "np.mean(l1mses)"
   ]
  },
  {
   "cell_type": "code",
   "execution_count": 96,
   "metadata": {
    "collapsed": false
   },
   "outputs": [
    {
     "data": {
      "text/plain": [
       "-25.455760440676386"
      ]
     },
     "execution_count": 96,
     "metadata": {},
     "output_type": "execute_result"
    }
   ],
   "source": [
    "# 由于数据集中噪声并不多，所以删去一个特征后，模型的MSE有所上升\n",
    "np.mean(l1mses) - np.mean(mses)"
   ]
  },
  {
   "cell_type": "code",
   "execution_count": 97,
   "metadata": {
    "collapsed": true
   },
   "outputs": [],
   "source": [
    "# 创建有噪声的回归数据集\n",
    "X, y = datasets.make_regression(noise=5)"
   ]
  },
  {
   "cell_type": "code",
   "execution_count": 98,
   "metadata": {
    "collapsed": false
   },
   "outputs": [
    {
     "data": {
      "text/plain": [
       "227.68624544331328"
      ]
     },
     "execution_count": 98,
     "metadata": {},
     "output_type": "execute_result"
    }
   ],
   "source": [
    "# 用随机交叉验证，求出模型的MSE\n",
    "mses = []\n",
    "\n",
    "shuff = model_selection.ShuffleSplit()\n",
    "\n",
    "for train, test in shuff.split(X):\n",
    "    train_X = X[train]\n",
    "    train_y = y[train]\n",
    "    \n",
    "    test_X = X[~train]\n",
    "    test_y = y[~train]\n",
    "    \n",
    "    lr.fit(train_X, train_y)\n",
    "    \n",
    "    mses.append(metrics.mean_squared_error(test_y, lr.predict(test_X)))\n",
    "    \n",
    "np.mean(mses)"
   ]
  },
  {
   "cell_type": "code",
   "execution_count": 99,
   "metadata": {
    "collapsed": false
   },
   "outputs": [
    {
     "data": {
      "text/plain": [
       "LassoCV(alphas=None, copy_X=True, cv=None, eps=0.001, fit_intercept=True,\n",
       "    max_iter=1000, n_alphas=100, n_jobs=1, normalize=False, positive=False,\n",
       "    precompute='auto', random_state=None, selection='cyclic', tol=0.0001,\n",
       "    verbose=False)"
      ]
     },
     "execution_count": 99,
     "metadata": {},
     "output_type": "execute_result"
    }
   ],
   "source": [
    "cv.fit(X, y)"
   ]
  },
  {
   "cell_type": "code",
   "execution_count": 100,
   "metadata": {
    "collapsed": false
   },
   "outputs": [
    {
     "data": {
      "text/plain": [
       "array([ 1, 15, 17, 21, 30, 40, 43, 56, 87, 89, 94, 98, 99], dtype=int64)"
      ]
     },
     "execution_count": 100,
     "metadata": {},
     "output_type": "execute_result"
    }
   ],
   "source": [
    "# 找出系数非0的特征索引\n",
    "columns = np.arange(X.shape[1])[cv.coef_ != 0]\n",
    "columns"
   ]
  },
  {
   "cell_type": "code",
   "execution_count": 101,
   "metadata": {
    "collapsed": false
   },
   "outputs": [
    {
     "data": {
      "text/plain": [
       "21.230065314153801"
      ]
     },
     "execution_count": 101,
     "metadata": {},
     "output_type": "execute_result"
    }
   ],
   "source": [
    "# 用随机交叉验证，求出特征选择后模型的MSE\n",
    "mses = []\n",
    "\n",
    "shuff = model_selection.ShuffleSplit()\n",
    "\n",
    "for train, test in shuff.split(X):\n",
    "    train_X = X[train][:, columns]\n",
    "    train_y = y[train]\n",
    "    \n",
    "    test_X = X[~train][:, columns]\n",
    "    test_y = y[~train]\n",
    "    \n",
    "    lr.fit(train_X, train_y)\n",
    "    \n",
    "    mses.append(metrics.mean_squared_error(test_y, lr.predict(test_X)))\n",
    "\n",
    "# 特征选择后，MSE显著下降\n",
    "np.mean(mses)"
   ]
  },
  {
   "cell_type": "raw",
   "metadata": {},
   "source": []
  },
  {
   "cell_type": "markdown",
   "metadata": {},
   "source": [
    "# 用joblib保存模型\n",
    "externals.joblib类"
   ]
  },
  {
   "cell_type": "code",
   "execution_count": 102,
   "metadata": {
    "collapsed": true
   },
   "outputs": [],
   "source": [
    "from sklearn.externals import joblib"
   ]
  },
  {
   "cell_type": "code",
   "execution_count": 103,
   "metadata": {
    "collapsed": false
   },
   "outputs": [
    {
     "data": {
      "text/plain": [
       "DecisionTreeClassifier(class_weight=None, criterion='gini', max_depth=None,\n",
       "            max_features=None, max_leaf_nodes=None,\n",
       "            min_impurity_split=1e-07, min_samples_leaf=1,\n",
       "            min_samples_split=2, min_weight_fraction_leaf=0.0,\n",
       "            presort=False, random_state=None, splitter='best')"
      ]
     },
     "execution_count": 103,
     "metadata": {},
     "output_type": "execute_result"
    }
   ],
   "source": [
    "# 创建分类数据集，并建立决策树模型\n",
    "from sklearn import datasets, tree\n",
    "\n",
    "X, y = datasets.make_classification()\n",
    "\n",
    "dt = tree.DecisionTreeClassifier()\n",
    "dt.fit(X, y)"
   ]
  },
  {
   "cell_type": "code",
   "execution_count": 104,
   "metadata": {
    "collapsed": false
   },
   "outputs": [
    {
     "data": {
      "text/plain": [
       "['dtree.clf']"
      ]
     },
     "execution_count": 104,
     "metadata": {},
     "output_type": "execute_result"
    }
   ],
   "source": [
    "# 保存决策树模型\n",
    "joblib.dump(dt, \"dtree.clf\")"
   ]
  },
  {
   "cell_type": "code",
   "execution_count": 105,
   "metadata": {
    "collapsed": false
   },
   "outputs": [
    {
     "data": {
      "text/plain": [
       "RandomForestClassifier(bootstrap=True, class_weight=None, criterion='gini',\n",
       "            max_depth=None, max_features='auto', max_leaf_nodes=None,\n",
       "            min_impurity_split=1e-07, min_samples_leaf=1,\n",
       "            min_samples_split=2, min_weight_fraction_leaf=0.0,\n",
       "            n_estimators=10, n_jobs=1, oob_score=False, random_state=None,\n",
       "            verbose=0, warm_start=False)"
      ]
     },
     "execution_count": 105,
     "metadata": {},
     "output_type": "execute_result"
    }
   ],
   "source": [
    "# 建立随机森林模型\n",
    "from sklearn import ensemble\n",
    "\n",
    "rf = ensemble.RandomForestClassifier()\n",
    "rf.fit(X, y)"
   ]
  },
  {
   "cell_type": "code",
   "execution_count": 106,
   "metadata": {
    "collapsed": false
   },
   "outputs": [
    {
     "data": {
      "text/plain": [
       "['rf.clf']"
      ]
     },
     "execution_count": 106,
     "metadata": {},
     "output_type": "execute_result"
    }
   ],
   "source": [
    "# 保存随机森林模型\n",
    "joblib.dump(rf, \"rf.clf\")"
   ]
  }
 ],
 "metadata": {
  "kernelspec": {
   "display_name": "Python 2",
   "language": "python",
   "name": "python2"
  },
  "language_info": {
   "codemirror_mode": {
    "name": "ipython",
    "version": 2
   },
   "file_extension": ".py",
   "mimetype": "text/x-python",
   "name": "python",
   "nbconvert_exporter": "python",
   "pygments_lexer": "ipython2",
   "version": "2.7.11"
  }
 },
 "nbformat": 4,
 "nbformat_minor": 0
}
